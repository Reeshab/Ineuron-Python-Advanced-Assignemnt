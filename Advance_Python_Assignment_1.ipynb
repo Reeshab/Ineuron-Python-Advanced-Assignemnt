{
  "nbformat": 4,
  "nbformat_minor": 0,
  "metadata": {
    "colab": {
      "provenance": [],
      "authorship_tag": "ABX9TyP0CiKXcGeGN+aagA9W4sY7",
      "include_colab_link": true
    },
    "kernelspec": {
      "name": "python3",
      "display_name": "Python 3"
    },
    "language_info": {
      "name": "python"
    }
  },
  "cells": [
    {
      "cell_type": "markdown",
      "metadata": {
        "id": "view-in-github",
        "colab_type": "text"
      },
      "source": [
        "<a href=\"https://colab.research.google.com/github/Reeshab/Ineuron-Python-Advanced-Assignemnt/blob/main/Advance_Python_Assignment_1.ipynb\" target=\"_parent\"><img src=\"https://colab.research.google.com/assets/colab-badge.svg\" alt=\"Open In Colab\"/></a>"
      ]
    },
    {
      "cell_type": "markdown",
      "source": [
        "Q1. What is the purpose of Python&#39;s OOP?"
      ],
      "metadata": {
        "id": "nHECDvIRczZf"
      }
    },
    {
      "cell_type": "markdown",
      "source": [
        "Ans: Object-oriented programming is a programming paradigm that provides a means of structuring programs so that properties and behaviors are bundled into individual objects\n",
        "\n",
        "In Python, object-oriented Programming (OOPs) uses objects and classes in programming.\n",
        "\n",
        "It aims to implement real-world entities like inheritance, polymorphisms, encapsulation, etc. in the programming.\n",
        "\n",
        "The main concept of OOPs is to bind the data and the functions that work on that together as a single unit so that no other part of the code can access this data.\n",
        "\n",
        "It comes up with the following advantages:\n",
        "\n",
        "It helps to divide our over all program into different small segments and thus\n",
        "\n",
        " making it solving easy with the use of objects\n",
        "\n",
        "Helps in easy maintenance and modification of existing program\n",
        "\n",
        "Multiple instances of an object can be made."
      ],
      "metadata": {
        "id": "sFYpkXrUr8Fw"
      }
    },
    {
      "cell_type": "markdown",
      "source": [
        "Q2. Where does an inheritance search look for an attribute?"
      ],
      "metadata": {
        "id": "34zuFP-ojO_-"
      }
    },
    {
      "cell_type": "markdown",
      "source": [
        "Ans: Python searches for an attribute in an upward tree of attributes. it first searches for the attribute in its instance and then looks in the class it is generated from, to all super classes listed in its class header"
      ],
      "metadata": {
        "id": "7y-OnggQ1Ig2"
      }
    },
    {
      "cell_type": "markdown",
      "source": [
        "Q3. How do you distinguish between a class object and an instance object?"
      ],
      "metadata": {
        "id": "GK5AqOMijSS-"
      }
    },
    {
      "cell_type": "markdown",
      "source": [
        "Ans: The differences between a class object and an instance object are:\n",
        "\n",
        "Class is a template for creating objects whereas object is an instance of class\n",
        "\n",
        "Seperate memory is allocated for each object whenever an object is created. but for a class this doesnot happens.\n",
        "\n",
        "A Class is created once. Many objects are created using a class.\n",
        "\n",
        "As Classes have no allocated memory. they can't be manipulated. but objects can be manipulated."
      ],
      "metadata": {
        "id": "88-IW9441hdl"
      }
    },
    {
      "cell_type": "markdown",
      "source": [
        "Q4. What makes the first argument in a class’s method function special?"
      ],
      "metadata": {
        "id": "VXJVQa17jVe2"
      }
    },
    {
      "cell_type": "markdown",
      "source": [
        "Ans: Python Classes usually have three types of methods which are:\n",
        "\n",
        "Instance Methods (object level methods)\n",
        "\n",
        "Class Methods (class level methods)\n",
        "\n",
        "Static Methods (general utility methods)\n",
        "\n",
        "self is the first argument for instance methods. which refers to the object itself\n",
        "\n",
        "cls is the first argument for class methods which refers to the class itself"
      ],
      "metadata": {
        "id": "8IP179p85yZd"
      }
    },
    {
      "cell_type": "markdown",
      "source": [
        "Q5. What is the purpose of the __init__ method?"
      ],
      "metadata": {
        "id": "aNlSiyvHjYwW"
      }
    },
    {
      "cell_type": "markdown",
      "source": [
        "Ans: __init__ is a reseved method in python classes. It serves the role of a constructor in object oriented terminology. This method is called when an object is created from a class and it allows the class to initialize the attributes of the class"
      ],
      "metadata": {
        "id": "it22VYXa6KCc"
      }
    },
    {
      "cell_type": "markdown",
      "source": [
        "Q6. What is the process for creating a class instance?"
      ],
      "metadata": {
        "id": "wxawa5lyjbds"
      }
    },
    {
      "cell_type": "markdown",
      "source": [
        "To create a class instance, we need to call the class by its name and pass the arguments to the class, which its init method accepts.\n",
        "\n",
        "example : my_personalname = my_class(\"Reeshab\", \"Sanath\") Here my_name is an instance of class my_class with attributes \"Mano\" and \"Vishnu\"."
      ],
      "metadata": {
        "id": "YpEqQDtt6vub"
      }
    },
    {
      "cell_type": "markdown",
      "source": [
        "Q7. What is the process for creating a class?"
      ],
      "metadata": {
        "id": "CWFeA0njjeGk"
      }
    },
    {
      "cell_type": "markdown",
      "source": [
        "Class key word is used to create a class in python.The syntax to create a class in python is class :\n",
        "\n",
        "Example: class Jungle: ➞ this creates a class called Jungle"
      ],
      "metadata": {
        "id": "Yx2l7NpXA8VL"
      }
    },
    {
      "cell_type": "markdown",
      "source": [
        "Q8. How would you define the superclasses of a class?"
      ],
      "metadata": {
        "id": "I2A2DRIwjgik"
      }
    },
    {
      "cell_type": "markdown",
      "source": [
        "Superclass / Parent class is given as a argument to the child class.\n",
        "\n",
        "Example : class Employee(Person): Here child class which is person inherits attributes and methods from Superclass/Parent is Person."
      ],
      "metadata": {
        "id": "j_iVHgG7BOIs"
      }
    },
    {
      "cell_type": "code",
      "source": [],
      "metadata": {
        "id": "rpJ_FsuIcrLL"
      },
      "execution_count": null,
      "outputs": []
    },
    {
      "cell_type": "code",
      "source": [],
      "metadata": {
        "id": "AivRXEWpcrN0"
      },
      "execution_count": null,
      "outputs": []
    },
    {
      "cell_type": "code",
      "source": [],
      "metadata": {
        "id": "z1nx_HBscrQr"
      },
      "execution_count": null,
      "outputs": []
    },
    {
      "cell_type": "code",
      "source": [],
      "metadata": {
        "id": "caIwvqbScrUV"
      },
      "execution_count": null,
      "outputs": []
    }
  ]
}