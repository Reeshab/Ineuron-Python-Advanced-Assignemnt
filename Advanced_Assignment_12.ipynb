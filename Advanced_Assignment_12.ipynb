{
  "nbformat": 4,
  "nbformat_minor": 0,
  "metadata": {
    "colab": {
      "provenance": [],
      "authorship_tag": "ABX9TyMXF2v2K4sOsM2rKrEUg7Bo",
      "include_colab_link": true
    },
    "kernelspec": {
      "name": "python3",
      "display_name": "Python 3"
    },
    "language_info": {
      "name": "python"
    }
  },
  "cells": [
    {
      "cell_type": "markdown",
      "metadata": {
        "id": "view-in-github",
        "colab_type": "text"
      },
      "source": [
        "<a href=\"https://colab.research.google.com/github/Reeshab/Ineuron-Python-Advanced-Assignemnt/blob/main/Advanced_Assignment_12.ipynb\" target=\"_parent\"><img src=\"https://colab.research.google.com/assets/colab-badge.svg\" alt=\"Open In Colab\"/></a>"
      ]
    },
    {
      "cell_type": "markdown",
      "source": [
        "Q1. Does assigning a value to a string&#39;s indexed character violate Python&#39;s string immutability?"
      ],
      "metadata": {
        "id": "Bqwi5TPchgZR"
      }
    },
    {
      "cell_type": "markdown",
      "source": [
        "Ans: String’s index character cannot to be assigned a New value , because Strings are immutable"
      ],
      "metadata": {
        "id": "NG8OQv78iR7S"
      }
    },
    {
      "cell_type": "code",
      "execution_count": null,
      "metadata": {
        "colab": {
          "base_uri": "https://localhost:8080/"
        },
        "id": "p6xSAbZ0hKsY",
        "outputId": "a8579cc4-bd51-41f6-b2ce-957110d73b72"
      },
      "outputs": [
        {
          "output_type": "stream",
          "name": "stdout",
          "text": [
            "140168563040304\n"
          ]
        }
      ],
      "source": [
        "name = \"India\"\n",
        "print(id(name)) \n"
      ]
    },
    {
      "cell_type": "code",
      "source": [
        "name[0] = \"V\""
      ],
      "metadata": {
        "colab": {
          "base_uri": "https://localhost:8080/"
        },
        "id": "2bUiuWVyjMKi",
        "outputId": "6d4dc40a-4ed2-4013-b40a-c1142c978d75"
      },
      "execution_count": null,
      "outputs": [
        {
          "output_type": "error",
          "ename": "TypeError",
          "evalue": "ignored",
          "traceback": [
            "\u001b[0;31m---------------------------------------------------------------------------\u001b[0m",
            "\u001b[0;31mTypeError\u001b[0m                                 Traceback (most recent call last)",
            "\u001b[0;32m<ipython-input-10-91fa644d4b01>\u001b[0m in \u001b[0;36m<module>\u001b[0;34m\u001b[0m\n\u001b[0;32m----> 1\u001b[0;31m \u001b[0mname\u001b[0m\u001b[0;34m[\u001b[0m\u001b[0;36m0\u001b[0m\u001b[0;34m]\u001b[0m \u001b[0;34m=\u001b[0m \u001b[0;34m\"V\"\u001b[0m\u001b[0;34m\u001b[0m\u001b[0;34m\u001b[0m\u001b[0m\n\u001b[0m",
            "\u001b[0;31mTypeError\u001b[0m: 'str' object does not support item assignment"
          ]
        }
      ]
    },
    {
      "cell_type": "markdown",
      "source": [
        "Q2. Does using the += operator to concatenate strings violate Python&#39;s string immutability? Why or\n",
        "why not?"
      ],
      "metadata": {
        "id": "lfmZ6o91hkxt"
      }
    },
    {
      "cell_type": "markdown",
      "source": [
        "+= operator is used to concatenate strings, it does not violate Python’s string immutability Property. Because doing so new creates a new association with data and variable. E.g. str_1=\"a\" and str_1+=\"b. effect of this statements to create string ab and reassign it to variable str_1, any string data is not actually modified."
      ],
      "metadata": {
        "id": "Ih5V3HALr8zi"
      }
    },
    {
      "cell_type": "code",
      "source": [
        "str_1 = 'a'\n",
        "print(id(str_1))\n",
        "str_1 += 'b'\n",
        "print(id(str_1))"
      ],
      "metadata": {
        "colab": {
          "base_uri": "https://localhost:8080/"
        },
        "id": "-koKOVFihLdS",
        "outputId": "762728a9-8043-43fa-a8d4-7bc1c287209f"
      },
      "execution_count": null,
      "outputs": [
        {
          "output_type": "stream",
          "name": "stdout",
          "text": [
            "140168897820336\n",
            "140168563341488\n"
          ]
        }
      ]
    },
    {
      "cell_type": "markdown",
      "source": [
        "Q3. In Python, how many different ways are there to index a character?"
      ],
      "metadata": {
        "id": "anH4iQc-homq"
      }
    },
    {
      "cell_type": "markdown",
      "source": [
        "A Character in string can be indexed using string name followed by index number of character in square bracket. Positive Indexing i.e. first index is 0 an so on, or Negative Indexing i.e. last letter is -1 and so on can be used to index a character"
      ],
      "metadata": {
        "id": "1PDnEmngs2fl"
      }
    },
    {
      "cell_type": "code",
      "source": [
        "input_string = \"iNeuron Full Stack Data Science\"\n",
        "print(input_string[9],input_string[10],input_string[2]) # Positive Indexing\n",
        "print(input_string[-1],input_string[-5],input_string[-2]) # Negative Indexing"
      ],
      "metadata": {
        "colab": {
          "base_uri": "https://localhost:8080/"
        },
        "id": "vBIq9l41hLhX",
        "outputId": "770d5a9a-fc92-4db9-98ca-7ed066241f3a"
      },
      "execution_count": null,
      "outputs": [
        {
          "output_type": "stream",
          "name": "stdout",
          "text": [
            "u l e\n",
            "e i c\n"
          ]
        }
      ]
    },
    {
      "cell_type": "markdown",
      "source": [
        "Q4. What is the relationship between indexing and slicing?"
      ],
      "metadata": {
        "id": "gj9TvxmVhsX3"
      }
    },
    {
      "cell_type": "markdown",
      "source": [
        "We can access elements of sequence datatypes by using slicing and indexing. Indexing is used to obtaining individual element while slicing for sequence of elements."
      ],
      "metadata": {
        "id": "hgIgTJZ-tbic"
      }
    },
    {
      "cell_type": "code",
      "source": [
        "input_string = \"iNeuron Full Stack Data Science\"\n",
        "print(input_string[1],input_string[3],input_string[5]) # Indexing\n",
        "print(input_string[1:15]) # Slicing"
      ],
      "metadata": {
        "colab": {
          "base_uri": "https://localhost:8080/"
        },
        "id": "1jlzJVFphLla",
        "outputId": "7ac428f2-0e07-4264-c158-bc76cdbce2f7"
      },
      "execution_count": null,
      "outputs": [
        {
          "output_type": "stream",
          "name": "stdout",
          "text": [
            "N u o\n",
            "Neuron Full St\n"
          ]
        }
      ]
    },
    {
      "cell_type": "markdown",
      "source": [
        "Q5. What is an indexed character&#39;s exact data type? What is the data form of a slicing-generated\n",
        "substring?"
      ],
      "metadata": {
        "id": "lZzqV15_hvi0"
      }
    },
    {
      "cell_type": "markdown",
      "source": [
        " Indexed characters and sliced substrings have datatype String"
      ],
      "metadata": {
        "id": "NAP2BVW9t3eu"
      }
    },
    {
      "cell_type": "markdown",
      "source": [
        "Q6. What is the relationship between string and character &quot;types&quot; in Python?"
      ],
      "metadata": {
        "id": "UGOEV5KShy2M"
      }
    },
    {
      "cell_type": "markdown",
      "source": [
        "Ans: Object that contains sequence of character datatypes are called String."
      ],
      "metadata": {
        "id": "EOjTbvbkxhIw"
      }
    },
    {
      "cell_type": "markdown",
      "source": [
        "Q7. Identify at least two operators and one method that allow you to combine one or more smaller\n",
        "strings to create a larger string."
      ],
      "metadata": {
        "id": "p4mtyT21h25s"
      }
    },
    {
      "cell_type": "markdown",
      "source": [
        "Ans: +, += and * allow to combine one or more smaller strings to create a larger string. .join() method joins element of iterable type like list and tuple to get a combined string."
      ],
      "metadata": {
        "id": "rBjcnmtRxliy"
      }
    },
    {
      "cell_type": "code",
      "source": [
        "in_string = 'iNeuron '\n",
        "in_string += 'Full Stack Data Science'\n",
        "print(in_string + ' FSDS')\n",
        "print('FSDS '*3)\n",
        "print(\" \".join(['I','N','E','U','R','O','N'])) # List Iterable\n",
        "print(\" \".join(('I','N','E','U','R','O','N')).lower()) # Tuple Iterable"
      ],
      "metadata": {
        "colab": {
          "base_uri": "https://localhost:8080/"
        },
        "id": "qI47lNzLxp2v",
        "outputId": "e5ad5248-e867-4b22-c9e1-2aa75581d1fb"
      },
      "execution_count": 17,
      "outputs": [
        {
          "output_type": "stream",
          "name": "stdout",
          "text": [
            "iNeuron Full Stack Data Science FSDS\n",
            "FSDS FSDS FSDS \n",
            "I N E U R O N\n",
            "i n e u r o n\n"
          ]
        }
      ]
    },
    {
      "cell_type": "markdown",
      "source": [
        "Q8. What is the benefit of first checking the target string with in or not in before using the index\n",
        "method to find a substring?"
      ],
      "metadata": {
        "id": "LaL1P6rbh59q"
      }
    },
    {
      "cell_type": "markdown",
      "source": [
        "Ans: Checking the target string with in or not Operators before using the index method to find a substring just helps confirming availability of substring and thus avoid raising of ValueError."
      ],
      "metadata": {
        "id": "DL2LRquExyud"
      }
    },
    {
      "cell_type": "code",
      "source": [
        "in_string = \"ineuron\"\n",
        "in_string.index('x') # Raises ValueError\n",
        "in_string.index('u') # 3"
      ],
      "metadata": {
        "id": "p1cP0qWIhLze",
        "colab": {
          "base_uri": "https://localhost:8080/",
          "height": 201
        },
        "outputId": "ce0afd09-1ea6-4047-d0a5-2e8df629b2a3"
      },
      "execution_count": 20,
      "outputs": [
        {
          "output_type": "error",
          "ename": "ValueError",
          "evalue": "ignored",
          "traceback": [
            "\u001b[0;31m---------------------------------------------------------------------------\u001b[0m",
            "\u001b[0;31mValueError\u001b[0m                                Traceback (most recent call last)",
            "\u001b[0;32m<ipython-input-20-1528106df0e6>\u001b[0m in \u001b[0;36m<module>\u001b[0;34m\u001b[0m\n\u001b[1;32m      1\u001b[0m \u001b[0min_string\u001b[0m \u001b[0;34m=\u001b[0m \u001b[0;34m\"ineuron\"\u001b[0m\u001b[0;34m\u001b[0m\u001b[0;34m\u001b[0m\u001b[0m\n\u001b[0;32m----> 2\u001b[0;31m \u001b[0min_string\u001b[0m\u001b[0;34m.\u001b[0m\u001b[0mindex\u001b[0m\u001b[0;34m(\u001b[0m\u001b[0;34m'x'\u001b[0m\u001b[0;34m)\u001b[0m \u001b[0;31m# Raises ValueError\u001b[0m\u001b[0;34m\u001b[0m\u001b[0;34m\u001b[0m\u001b[0m\n\u001b[0m\u001b[1;32m      3\u001b[0m \u001b[0min_string\u001b[0m\u001b[0;34m.\u001b[0m\u001b[0mindex\u001b[0m\u001b[0;34m(\u001b[0m\u001b[0;34m'u'\u001b[0m\u001b[0;34m)\u001b[0m \u001b[0;31m# 3\u001b[0m\u001b[0;34m\u001b[0m\u001b[0;34m\u001b[0m\u001b[0m\n",
            "\u001b[0;31mValueError\u001b[0m: substring not found"
          ]
        }
      ]
    },
    {
      "cell_type": "markdown",
      "source": [
        "Q9. Which operators and built-in string methods produce simple Boolean (true/false) results?"
      ],
      "metadata": {
        "id": "GZ6aFZEjh86w"
      }
    },
    {
      "cell_type": "markdown",
      "source": [
        "Ans: The String Operators and built-in methods to Produce Simple Boolean (True/False) Results are:"
      ],
      "metadata": {
        "id": "qTLVXXEryBBp"
      }
    },
    {
      "cell_type": "markdown",
      "source": [
        "in\n",
        "not\n",
        ".isalpha()\n",
        ".isalnum()\n",
        ".isdecimal()\n",
        ".isdigit()\n",
        ".islower()\n",
        ".isnumeric()\n",
        ".isprintable()\n",
        ".isspace()\n",
        ".istitle()"
      ],
      "metadata": {
        "id": "ibKg4WrpyGNx"
      }
    },
    {
      "cell_type": "code",
      "source": [],
      "metadata": {
        "id": "F0vhFnIhhL25"
      },
      "execution_count": null,
      "outputs": []
    },
    {
      "cell_type": "code",
      "source": [],
      "metadata": {
        "id": "DSB9_6WKhL6Q"
      },
      "execution_count": null,
      "outputs": []
    },
    {
      "cell_type": "code",
      "source": [],
      "metadata": {
        "id": "OPobEshjhL9b"
      },
      "execution_count": null,
      "outputs": []
    },
    {
      "cell_type": "code",
      "source": [],
      "metadata": {
        "id": "qfjpK5UchMA1"
      },
      "execution_count": null,
      "outputs": []
    }
  ]
}