{
  "nbformat": 4,
  "nbformat_minor": 0,
  "metadata": {
    "colab": {
      "provenance": [],
      "authorship_tag": "ABX9TyMf2CIawXelHuJ+o/nR8t+w",
      "include_colab_link": true
    },
    "kernelspec": {
      "name": "python3",
      "display_name": "Python 3"
    },
    "language_info": {
      "name": "python"
    }
  },
  "cells": [
    {
      "cell_type": "markdown",
      "metadata": {
        "id": "view-in-github",
        "colab_type": "text"
      },
      "source": [
        "<a href=\"https://colab.research.google.com/github/Reeshab/Ineuron-Python-Advanced-Assignemnt/blob/main/Advanced_Python_Assignment_15.ipynb\" target=\"_parent\"><img src=\"https://colab.research.google.com/assets/colab-badge.svg\" alt=\"Open In Colab\"/></a>"
      ]
    },
    {
      "cell_type": "markdown",
      "source": [
        "1. What are the new features added in Python 3.8 version?"
      ],
      "metadata": {
        "id": "TLSJ5tEtlxD2"
      }
    },
    {
      "cell_type": "markdown",
      "source": [
        "Ans: Some New Features Added in Python 3.8 Version are:\n",
        "\n",
        "Walrus Operator: This operator is used to assign and return a value in the same expression. This removes the need for initializing the variable upfront. The major benefit of this is it saves some lines of code. It is also known as The Walrus Operator due to its similarity to the eyes and tusks of a walrus.\n",
        "\n",
        "yield and return statements do not require parentheses to return multiple values.\n",
        "\n",
        "Reversed works with a dictionary. The built-in method reversed() can be used for accessing the elements in the reverse order of insertion\n",
        "\n",
        "Dict comprehensions have been modified so that the key is computed first and the value second.\n",
        "\n",
        "importlib_metadata is a new library added in the Python’s standard utility modules, that provides an API for accessing an installed package’s metadata, such as its entry points or its top-level name.\n",
        "\n",
        "f-strings now support = , to make string interpolation easy. Python 3.8 allows the use of the above-discussed assignment operator and equal sign (=) inside the f-strings.\n",
        "\n",
        "In the three-argument form of pow(), when the exponent is -1, it calculates the modular multiplicative inverse of the given value\n",
        "\n",
        "The csv.DictReader now returns instances of dictionary instead of a collections.OrderedDict.\n",
        "\n",
        "If you miss a comma in your code such as a = [(1, 2) (3, 4)], instead of throwing TypeError, it displays an informative Syntax warning."
      ],
      "metadata": {
        "id": "UUBuMP3ywNXd"
      }
    },
    {
      "cell_type": "code",
      "source": [
        "# Example of Walrus Operator\n",
        "if (sum := 10 + 5) > 10: # its always recommended to use paranthesis with walrus operator\n",
        "    print(sum) #return 15 \n",
        "\n",
        "# Example of yield and return\n",
        "def hello():\n",
        "    return 'Hello','Good Morning'\n",
        "print(hello())\n",
        "def count():\n",
        "    for i in range(5):\n",
        "        yield i,i**2\n",
        "for ele in count():\n",
        "    print(ele, end=\" \")\n",
        "print()\n",
        "    \n",
        "# Example of Reversed Support for dict\n",
        "t_dict = {\"Name\":\"Mano Vishnu\",\"Role\":\"Data Scientist\"}\n",
        "for ele in reversed(t_dict):\n",
        "    print(f'{ele}:\"{t_dict[ele]}\"')\n",
        "    \n",
        "# Example of using = in F-strings\n",
        "len_string = len(\"Ineuron Full Stack Data Science\")\n",
        "print(f'The length of string is {len_string = }')\n",
        "\n",
        "# Example of Infomrative syntax instead of synatx error while missing comma.\n",
        "r_list = [(1,2) (3,4)]"
      ],
      "metadata": {
        "colab": {
          "base_uri": "https://localhost:8080/",
          "height": 374
        },
        "id": "FmgyQYhY2-58",
        "outputId": "cb9bbf6c-347c-4b5c-ff71-aa9770c541eb"
      },
      "execution_count": null,
      "outputs": [
        {
          "output_type": "stream",
          "name": "stdout",
          "text": [
            "15\n",
            "('Hello', 'Good Morning')\n",
            "(0, 0) (1, 1) (2, 4) (3, 9) (4, 16) \n",
            "Role:\"Data Scientist\"\n",
            "Name:\"Mano Vishnu\"\n",
            "The length of string is len_string = 31\n"
          ]
        },
        {
          "output_type": "stream",
          "name": "stderr",
          "text": [
            "<>:26: SyntaxWarning: 'tuple' object is not callable; perhaps you missed a comma?\n",
            "<>:26: SyntaxWarning: 'tuple' object is not callable; perhaps you missed a comma?\n",
            "<ipython-input-4-5c677d2a8075>:26: SyntaxWarning: 'tuple' object is not callable; perhaps you missed a comma?\n",
            "  r_list = [(1,2) (3,4)]\n"
          ]
        },
        {
          "output_type": "error",
          "ename": "TypeError",
          "evalue": "ignored",
          "traceback": [
            "\u001b[0;31m---------------------------------------------------------------------------\u001b[0m",
            "\u001b[0;31mTypeError\u001b[0m                                 Traceback (most recent call last)",
            "\u001b[0;32m<ipython-input-4-5c677d2a8075>\u001b[0m in \u001b[0;36m<module>\u001b[0;34m\u001b[0m\n\u001b[1;32m     24\u001b[0m \u001b[0;34m\u001b[0m\u001b[0m\n\u001b[1;32m     25\u001b[0m \u001b[0;31m# Example of Infomrative syntax instead of synatx error while missing comma.\u001b[0m\u001b[0;34m\u001b[0m\u001b[0;34m\u001b[0m\u001b[0;34m\u001b[0m\u001b[0m\n\u001b[0;32m---> 26\u001b[0;31m \u001b[0mr_list\u001b[0m \u001b[0;34m=\u001b[0m \u001b[0;34m[\u001b[0m\u001b[0;34m(\u001b[0m\u001b[0;36m1\u001b[0m\u001b[0;34m,\u001b[0m\u001b[0;36m2\u001b[0m\u001b[0;34m)\u001b[0m \u001b[0;34m(\u001b[0m\u001b[0;36m3\u001b[0m\u001b[0;34m,\u001b[0m\u001b[0;36m4\u001b[0m\u001b[0;34m)\u001b[0m\u001b[0;34m]\u001b[0m\u001b[0;34m\u001b[0m\u001b[0;34m\u001b[0m\u001b[0m\n\u001b[0m",
            "\u001b[0;31mTypeError\u001b[0m: 'tuple' object is not callable"
          ]
        }
      ]
    },
    {
      "cell_type": "markdown",
      "source": [
        "2. What is monkey patching in Python?"
      ],
      "metadata": {
        "id": "Wwrz9sUXl1cn"
      }
    },
    {
      "cell_type": "markdown",
      "source": [
        "In Python, the term monkey patch refers to making dynamic (or run-time) modifications to a class or module. In Python, we can actually change the behavior of code at run-time."
      ],
      "metadata": {
        "id": "Jp6Vzc2sFQjd"
      }
    },
    {
      "cell_type": "code",
      "source": [
        "class A:\n",
        "    def func(self):\n",
        "        print(\"func() is being called\")\n",
        "\n",
        "def monkey_f(self):\n",
        "    print(\"monkey_f() is being called\")\n",
        "\n",
        "A.func = monkey_f\n",
        "some_object = A()\n",
        "some_object.func()"
      ],
      "metadata": {
        "id": "TS7F_2g029eg",
        "colab": {
          "base_uri": "https://localhost:8080/"
        },
        "outputId": "20c44a30-915b-4628-de32-0cef4dbcc5ea"
      },
      "execution_count": 7,
      "outputs": [
        {
          "output_type": "stream",
          "name": "stdout",
          "text": [
            "monkey_f() is being called\n"
          ]
        }
      ]
    },
    {
      "cell_type": "markdown",
      "source": [
        "3. What is the difference between a shallow copy and deep copy?"
      ],
      "metadata": {
        "id": "Wtiu2jojl5YM"
      }
    },
    {
      "cell_type": "markdown",
      "source": [
        "The Differences between a Shallow Copy and deep copy are as follows:\n",
        "\n",
        "When an object is copied using copy(), it is called shallow copy as changes made in copied object will also make corresponding changes in original object, because both the objects will be referencing same address location.\n",
        "\n",
        "When an object is copied using deepcopy(), it is called deep copy as changes made in copied object will not make corresponding changes in original object, because both the objects will not be referencing same address location."
      ],
      "metadata": {
        "id": "ClkydqFnFZXi"
      }
    },
    {
      "cell_type": "code",
      "source": [
        "from copy import deepcopy, copy\n",
        "l_one = [1,2,[3,4],5,6]\n",
        "l_two = deepcopy(l_one)\n",
        "l_three = l_one\n",
        "print(f'Original Elements of each List\\n{l_one}\\n{l_two}\\n{l_three}')\n",
        "l_two[0] = 10\n",
        "l_three[-1] = 20\n",
        "print(f'New Elements of each List\\n{l_one}\\n{l_two}\\n{l_three}')"
      ],
      "metadata": {
        "id": "v6sVbvhLlKCu",
        "colab": {
          "base_uri": "https://localhost:8080/"
        },
        "outputId": "e32f0583-3fdd-41b0-9fba-aad55551cc4c"
      },
      "execution_count": 8,
      "outputs": [
        {
          "output_type": "stream",
          "name": "stdout",
          "text": [
            "Original Elements of each List\n",
            "[1, 2, [3, 4], 5, 6]\n",
            "[1, 2, [3, 4], 5, 6]\n",
            "[1, 2, [3, 4], 5, 6]\n",
            "New Elements of each List\n",
            "[1, 2, [3, 4], 5, 20]\n",
            "[10, 2, [3, 4], 5, 6]\n",
            "[1, 2, [3, 4], 5, 20]\n"
          ]
        }
      ]
    },
    {
      "cell_type": "markdown",
      "source": [
        "4. What is the maximum possible length of an identifier?"
      ],
      "metadata": {
        "id": "XaBOdwQGl9zT"
      }
    },
    {
      "cell_type": "markdown",
      "source": [
        "In Python, the highest possible length of an identifier is 79 characters. Python is a high level programming language. It’s also a complex form and a collector of waste.\n",
        "\n",
        "Python, particularly when combined with identifiers, is case-sensitive.\n",
        "When writing or using identifiers in Python, it has a maximum of 79 characters.\n",
        "Unlikely, Python gives the identifiers unlimited length.\n",
        "However, the layout of PEP-8 prevents the user from breaking the rules and includes a 79-character limit."
      ],
      "metadata": {
        "id": "GmSDA7CpFszL"
      }
    },
    {
      "cell_type": "markdown",
      "source": [
        "5. What is generator comprehension?"
      ],
      "metadata": {
        "id": "LrqHrVfxmCdN"
      }
    },
    {
      "cell_type": "markdown",
      "source": [
        " A generator comprehension is a single-line specification for defining a generator in Python.\n",
        "\n",
        "It is absolutely essential to learn this syntax in order to write simple and readable code.\n",
        "Generator comprehension uses round bracket unlike square bracket in list comprehension.\n",
        "The generator yields one item at a time and generates item only when in demand. Whereas, in a list comprehension, Python reserves memory for the whole list. Thus we can say that the generator expressions are memory efficient than the lists."
      ],
      "metadata": {
        "id": "JiwGVe3TFx-K"
      }
    },
    {
      "cell_type": "code",
      "source": [
        "in_list = [x for x in range(10)] # List Comprehension\n",
        "print(in_list)\n",
        "out_gen = (x for x in in_list if x%2 == 0) # Generator Comprehension\n",
        "print(out_gen) # Returns a Generator Object\n",
        "for ele in out_gen:\n",
        "    print(ele, end=\" \")"
      ],
      "metadata": {
        "id": "PNc9zHVElKIi",
        "colab": {
          "base_uri": "https://localhost:8080/"
        },
        "outputId": "4d3048ce-13bc-4d3e-a6d6-9d1366614de0"
      },
      "execution_count": 9,
      "outputs": [
        {
          "output_type": "stream",
          "name": "stdout",
          "text": [
            "[0, 1, 2, 3, 4, 5, 6, 7, 8, 9]\n",
            "<generator object <genexpr> at 0x7f7918611890>\n",
            "0 2 4 6 8 "
          ]
        }
      ]
    },
    {
      "cell_type": "code",
      "source": [],
      "metadata": {
        "id": "sLDgEyi5lKLX"
      },
      "execution_count": null,
      "outputs": []
    },
    {
      "cell_type": "code",
      "source": [],
      "metadata": {
        "id": "7uHYud_OlKOl"
      },
      "execution_count": null,
      "outputs": []
    },
    {
      "cell_type": "code",
      "source": [],
      "metadata": {
        "id": "hIX0gyO-lKRc"
      },
      "execution_count": null,
      "outputs": []
    },
    {
      "cell_type": "code",
      "source": [],
      "metadata": {
        "id": "OulfFxxjlKUY"
      },
      "execution_count": null,
      "outputs": []
    },
    {
      "cell_type": "code",
      "source": [],
      "metadata": {
        "id": "QNOvISKflKXM"
      },
      "execution_count": null,
      "outputs": []
    },
    {
      "cell_type": "code",
      "source": [],
      "metadata": {
        "id": "FrR6O5u6lKal"
      },
      "execution_count": null,
      "outputs": []
    },
    {
      "cell_type": "code",
      "source": [],
      "metadata": {
        "id": "Z8ockyB8lLLx"
      },
      "execution_count": null,
      "outputs": []
    },
    {
      "cell_type": "code",
      "source": [],
      "metadata": {
        "id": "A5wzT78QlLOx"
      },
      "execution_count": null,
      "outputs": []
    },
    {
      "cell_type": "code",
      "source": [],
      "metadata": {
        "id": "IrIq28aWlLRe"
      },
      "execution_count": null,
      "outputs": []
    },
    {
      "cell_type": "code",
      "source": [],
      "metadata": {
        "id": "uSQVIF9qlLUK"
      },
      "execution_count": null,
      "outputs": []
    },
    {
      "cell_type": "code",
      "source": [],
      "metadata": {
        "id": "lJtrFRRulLXA"
      },
      "execution_count": null,
      "outputs": []
    },
    {
      "cell_type": "code",
      "source": [],
      "metadata": {
        "id": "BFBGVyuwlLZi"
      },
      "execution_count": null,
      "outputs": []
    },
    {
      "cell_type": "code",
      "source": [],
      "metadata": {
        "id": "fqdmQCYJlLdA"
      },
      "execution_count": null,
      "outputs": []
    }
  ]
}