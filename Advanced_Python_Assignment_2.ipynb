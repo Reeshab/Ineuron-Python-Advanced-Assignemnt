{
  "nbformat": 4,
  "nbformat_minor": 0,
  "metadata": {
    "colab": {
      "provenance": [],
      "authorship_tag": "ABX9TyOfeV4XuzasQZW+pGbtw9Ax",
      "include_colab_link": true
    },
    "kernelspec": {
      "name": "python3",
      "display_name": "Python 3"
    },
    "language_info": {
      "name": "python"
    }
  },
  "cells": [
    {
      "cell_type": "markdown",
      "metadata": {
        "id": "view-in-github",
        "colab_type": "text"
      },
      "source": [
        "<a href=\"https://colab.research.google.com/github/Reeshab/Ineuron-Python-Advanced-Assignemnt/blob/main/Advanced_Python_Assignment_2.ipynb\" target=\"_parent\"><img src=\"https://colab.research.google.com/assets/colab-badge.svg\" alt=\"Open In Colab\"/></a>"
      ]
    },
    {
      "cell_type": "markdown",
      "source": [
        "Q1. What is the relationship between classes and modules?"
      ],
      "metadata": {
        "id": "yiloKNwoktnt"
      }
    },
    {
      "cell_type": "markdown",
      "source": [
        "In python class is like an outline/blueprint for creating new object. An object is anything that we wish to manipulate or change while working through the code. Every time a class object is instantiated, which is when we declare a variable a new object is intiated from starting. \n",
        "\n",
        "When in python, Modules are simply files with the .py extension containing python code that can be imported inside another program. But coming to module to be the same as a code library or a file which contains a set of functions & classes which you want into include in the application"
      ],
      "metadata": {
        "id": "Tk8bElFWmd0V"
      }
    },
    {
      "cell_type": "markdown",
      "source": [
        "Q2. How do you make instances and classes?"
      ],
      "metadata": {
        "id": "rlO6zU2GsL5p"
      }
    },
    {
      "cell_type": "markdown",
      "source": [
        "For cretaing a class Instance, we call a class by its name and pass the arguments which its __init__ method accepts.\n",
        "\n",
        "\n",
        "Ex : Ram = employee('Male',4000) . In this case Ram is an instance of class employee with the attributes 'Male' and 20000.\n",
        "\n",
        "And coming to class , we use the class keyword . In this section gender and salary defined.\n",
        "\n",
        "class Employee: def __init__(self, gender,salary): self.gender = gender self.salary = salary"
      ],
      "metadata": {
        "id": "R8orNU_3sNzH"
      }
    },
    {
      "cell_type": "markdown",
      "source": [
        "Q3. Where and how should be class attributes created?"
      ],
      "metadata": {
        "id": "DoxwL3b55CjV"
      }
    },
    {
      "cell_type": "markdown",
      "source": [
        "Class attributes or Class level attributes belong to the class itself. These attributes will be shared by all the instances of the class.These attributes are usually created in the top of class defination outside all methods.\n",
        "\n",
        "Ex : Here we are defining a class attributed with the no of wheels which will be shared by all the instances of the class car.\n",
        "\n",
        "class animal : no_of_wheels = 4\n",
        "__init__(self,color,price,engine): self.color = color\n",
        "self.price = price self.engine = engine"
      ],
      "metadata": {
        "id": "S9lZM6XT5Ice"
      }
    },
    {
      "cell_type": "markdown",
      "source": [
        "Q4. Where and how are instance attributes created?"
      ],
      "metadata": {
        "id": "fQ0WZoNXACXc"
      }
    },
    {
      "cell_type": "markdown",
      "source": [
        "Instance attributes are created & passed to the class when an object of the class is created. Till instance attributes are not shared by all objects of the class. Instead each object maintains its own copy of instance attributes at object level. in case of class attributes all instances of class refer to a single copy. It is defined with __init__ method of class.\n",
        "\n",
        "Ex : In this case we  crete a class Car with instance varibles color, price , engine which will be provided when an instance of class car is created.\n",
        "\n",
        "\n",
        "\n",
        "class Car: def __init__(self,color,price,engine): self.color = color # All this are instance attributes self.price = price self.engine = engine\n",
        "\n",
        "nexon_ev = Car('Indigo Blue', 1400000, 'electric')\n",
        "safari = Car('Pearl White',2100000, 'petrol')\n",
        "\n",
        "nexon_ev, safari are both the instances of class Car.\n"
      ],
      "metadata": {
        "id": "0leo5HHHAEIg"
      }
    },
    {
      "cell_type": "markdown",
      "source": [
        "Q5. What does the term &quot;self&quot; in a Python class mean?"
      ],
      "metadata": {
        "id": "gl4cj1WEDGEi"
      }
    },
    {
      "cell_type": "markdown",
      "source": [
        "Ans :  self represents the instances of the class (it reprsents the objec itself) . Using the \"self\" keyword we can acess and methods of the class in Python. "
      ],
      "metadata": {
        "id": "nwQ0phAPDHvb"
      }
    },
    {
      "cell_type": "code",
      "execution_count": 1,
      "metadata": {
        "colab": {
          "base_uri": "https://localhost:8080/"
        },
        "id": "h4Vk9uBHj5MT",
        "outputId": "6cf0051d-4fa1-4c8f-c695-63ad6cc089ce"
      },
      "outputs": [
        {
          "output_type": "stream",
          "name": "stdout",
          "text": [
            "{'color': 'Indigo Blue', 'price': 1400000, 'engine': 'electric'}\n",
            "{'color': 'Pearl White', 'price': 2100000, 'engine': 'petrol'}\n"
          ]
        }
      ],
      "source": [
        "class Car:\n",
        "    def __init__(self,color,price,engine):\n",
        "        self.color = color \n",
        "        self.price = price\n",
        "        self.engine = engine\n",
        "\n",
        "nexon_ev = Car('Indigo Blue', 1400000, 'electric')\n",
        "safari = Car('Pearl White',2100000, 'petrol')\n",
        "\n",
        "print(nexon_ev.__dict__)\n",
        "print(safari.__dict__)"
      ]
    },
    {
      "cell_type": "markdown",
      "source": [
        "Q6. How does a Python class handle operator overloading?"
      ],
      "metadata": {
        "id": "yKEhgqcSD5eB"
      }
    },
    {
      "cell_type": "markdown",
      "source": [
        "Ans : Python classes handle operator overloading by using special methods called Magic Methods. The special method usually begin with __(underscorer)\n",
        "\n",
        "+ -> __add__()\n",
        "- -> __sub__()\n",
        "* -> __mul__()\n",
        "/ -> __div__()\n"
      ],
      "metadata": {
        "id": "Jv3Gf3zeElda"
      }
    },
    {
      "cell_type": "code",
      "source": [
        "class Book:\n",
        "    def __init__(self,pages):\n",
        "        self.pages = pages\n",
        "    def __add__(self,other):\n",
        "        return self.pages + other.pages\n",
        "\n",
        "b1 = Book(100)\n",
        "b2 = Book(200)\n",
        "print(f\"The total number of pages in both books is {b1+b2}\")            "
      ],
      "metadata": {
        "colab": {
          "base_uri": "https://localhost:8080/"
        },
        "id": "r4E7Ikuvj6Z0",
        "outputId": "af216d4b-691f-4f7c-aa1e-cd5ab5d6f98a"
      },
      "execution_count": 2,
      "outputs": [
        {
          "output_type": "stream",
          "name": "stdout",
          "text": [
            "The total number of pages in both books is 300\n"
          ]
        }
      ]
    },
    {
      "cell_type": "markdown",
      "source": [
        "Q7. When do you consider allowing operator overloading of your classes?"
      ],
      "metadata": {
        "id": "IVSiPAF5ts6e"
      }
    },
    {
      "cell_type": "markdown",
      "source": [
        "Ans: When we want to have different meaning for the same operator accroding to the context we use operator overloading."
      ],
      "metadata": {
        "id": "nkn2Jodntx5v"
      }
    },
    {
      "cell_type": "markdown",
      "source": [
        "Q8. What is the most popular form of operator overloading?"
      ],
      "metadata": {
        "id": "ZW2NkgK5xTSp"
      }
    },
    {
      "cell_type": "markdown",
      "source": [
        "The most popular form of operator overloading in python is by special methods. I.e called Magic Method. Which usually begin and end with double underscorer __."
      ],
      "metadata": {
        "id": "ZayDe6pAxWP2"
      }
    },
    {
      "cell_type": "code",
      "source": [
        "class A:\n",
        "    def __init__(self,a):\n",
        "        self.a = a\n",
        "    def __add__(self,o):\n",
        "        return self.a+o.a\n",
        "obj1 = A(1)\n",
        "obj2 = A(2)\n",
        "obj3 = A('Reeshab')\n",
        "obj4 = A(' Kumar')\n",
        "print(f'Sum -> {obj1+obj2}')\n",
        "print(f'String Concatenation -> {obj3+obj4}')"
      ],
      "metadata": {
        "colab": {
          "base_uri": "https://localhost:8080/"
        },
        "id": "gKmsyELhj6c0",
        "outputId": "d8629d0d-067f-4348-a47d-9cc958e87451"
      },
      "execution_count": 4,
      "outputs": [
        {
          "output_type": "stream",
          "name": "stdout",
          "text": [
            "Sum -> 3\n",
            "String Concatenation -> Reeshab Kumar\n"
          ]
        }
      ]
    },
    {
      "cell_type": "markdown",
      "source": [
        "Q9. What are the two most important concepts to grasp in order to comprehend Python OOP code?"
      ],
      "metadata": {
        "id": "Ex20J3sZy_Bk"
      }
    },
    {
      "cell_type": "markdown",
      "source": [
        "Ans: Classes & Object are the two concepts to comperehend python OOP code as more formally objects are entities that represent instances of general abstarct concept called class.\n",
        "\n",
        "Inheritence\n",
        "\n",
        "Abstraction\n",
        "\n",
        "Polymorphism\n",
        "\n",
        "Encapsulation"
      ],
      "metadata": {
        "id": "wXoXYrRIzCiN"
      }
    },
    {
      "cell_type": "code",
      "source": [],
      "metadata": {
        "id": "vba9336Hj6f8"
      },
      "execution_count": null,
      "outputs": []
    },
    {
      "cell_type": "code",
      "source": [],
      "metadata": {
        "id": "CijNlM7Sj6ii"
      },
      "execution_count": null,
      "outputs": []
    },
    {
      "cell_type": "code",
      "source": [],
      "metadata": {
        "id": "oz00tbokj6lx"
      },
      "execution_count": null,
      "outputs": []
    },
    {
      "cell_type": "code",
      "source": [],
      "metadata": {
        "id": "OM1--WlMj6op"
      },
      "execution_count": null,
      "outputs": []
    },
    {
      "cell_type": "code",
      "source": [],
      "metadata": {
        "id": "j0e85fxxj6r3"
      },
      "execution_count": null,
      "outputs": []
    },
    {
      "cell_type": "code",
      "source": [],
      "metadata": {
        "id": "OfmixQkpj6vS"
      },
      "execution_count": null,
      "outputs": []
    },
    {
      "cell_type": "code",
      "source": [],
      "metadata": {
        "id": "73GyOcEnj6y9"
      },
      "execution_count": null,
      "outputs": []
    },
    {
      "cell_type": "code",
      "source": [],
      "metadata": {
        "id": "4p7FXxvzj62e"
      },
      "execution_count": null,
      "outputs": []
    },
    {
      "cell_type": "code",
      "source": [],
      "metadata": {
        "id": "WLWapDJVj68p"
      },
      "execution_count": null,
      "outputs": []
    },
    {
      "cell_type": "code",
      "source": [],
      "metadata": {
        "id": "g_TGxS9tj6_2"
      },
      "execution_count": null,
      "outputs": []
    },
    {
      "cell_type": "code",
      "source": [],
      "metadata": {
        "id": "rsH76ZHBj7DY"
      },
      "execution_count": null,
      "outputs": []
    }
  ]
}