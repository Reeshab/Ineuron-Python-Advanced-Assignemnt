{
  "nbformat": 4,
  "nbformat_minor": 0,
  "metadata": {
    "colab": {
      "provenance": [],
      "authorship_tag": "ABX9TyMOyGsJR/lWEfI5/43Yv3+g",
      "include_colab_link": true
    },
    "kernelspec": {
      "name": "python3",
      "display_name": "Python 3"
    },
    "language_info": {
      "name": "python"
    }
  },
  "cells": [
    {
      "cell_type": "markdown",
      "metadata": {
        "id": "view-in-github",
        "colab_type": "text"
      },
      "source": [
        "<a href=\"https://colab.research.google.com/github/Reeshab/Ineuron-Python-Advanced-Assignemnt/blob/main/Advanced_Python_Assignment_20.ipynb\" target=\"_parent\"><img src=\"https://colab.research.google.com/assets/colab-badge.svg\" alt=\"Open In Colab\"/></a>"
      ]
    },
    {
      "cell_type": "markdown",
      "source": [
        "1. Compare and contrast the float and Decimal classes&#39; benefits and drawbacks."
      ],
      "metadata": {
        "id": "eZmSRq2lYpLL"
      }
    },
    {
      "cell_type": "markdown",
      "source": [
        "Ans: Both the float and decimal types store numerical values in Python.\n",
        "\n",
        "Use floats when convenience and speed matter. A float gives you an approximation of the number you declare.\n",
        "\n",
        "Use decimals when precision matters. Decimals can suffer from their own precision issues, but generally, decimals are more precise than floats. The performance difference between float and decimal, with Python 3, is not outlandish, and in my experience, the precision benefits of a decimal outweigh the performance benefits of a float."
      ],
      "metadata": {
        "id": "VEzfMqkuZgqd"
      }
    },
    {
      "cell_type": "markdown",
      "source": [
        "2. Decimal(&#39;1.200&#39;) and Decimal(&#39;1.2&#39;) are two objects to consider. In what sense are these the same\n",
        "object? Are these just two ways of representing the exact same value, or do they correspond to\n",
        "different internal states?"
      ],
      "metadata": {
        "id": "Z-x3PfdmYt0I"
      }
    },
    {
      "cell_type": "markdown",
      "source": [
        " Both values are same but internal representation at storage Is different. Precsion differs, Decimal('1.200') gives internally 1.200 and Decimal('1.2') gives 1.2."
      ],
      "metadata": {
        "id": "IpR0tHiDc9dZ"
      }
    },
    {
      "cell_type": "markdown",
      "source": [
        "3. What happens if the equality of Decimal(&#39;1.200&#39;) and Decimal(&#39;1.2&#39;) is checked?"
      ],
      "metadata": {
        "id": "VlBEEV06YyYR"
      }
    },
    {
      "cell_type": "markdown",
      "source": [
        "Both values are checked to be equal , they only differ in precision."
      ],
      "metadata": {
        "id": "2XqGi76ydT0v"
      }
    },
    {
      "cell_type": "markdown",
      "source": [
        "4. Why is it preferable to start a Decimal object with a string rather than a floating-point value?"
      ],
      "metadata": {
        "id": "k4jJ7_woZoKj"
      }
    },
    {
      "cell_type": "markdown",
      "source": [
        "Floating-point value is converted to Decimal format. Decimal can store float value with absolute precision. But when float value is given as Decimal object,it first has to be converted from floating point value which might already have rounding error.\n",
        "\n",
        "Hence it is preferable to start a Decimal object with a string"
      ],
      "metadata": {
        "id": "o8Wpl2ACdoLq"
      }
    },
    {
      "cell_type": "markdown",
      "source": [
        "5. In an arithmetic phrase, how simple is it to combine Decimal objects with integers?"
      ],
      "metadata": {
        "id": "v_uJZRRyZsAW"
      }
    },
    {
      "cell_type": "markdown",
      "source": [
        "Ans: We can do it with use of Decimal()."
      ],
      "metadata": {
        "id": "kB8ZDOf_ePfI"
      }
    },
    {
      "cell_type": "markdown",
      "source": [
        "6. Can Decimal objects and floating-point values be combined easily?"
      ],
      "metadata": {
        "id": "dzBxQSVgZvef"
      }
    },
    {
      "cell_type": "markdown",
      "source": [
        "Ans: Arithmetic operfations like Adding,subtracting or multiplying a Decimal object by a floating-point value is generates an error.\n",
        "\n",
        "To do these operations, the floating point has to be converted to a Decimal."
      ],
      "metadata": {
        "id": "8oBFxRHDm6uk"
      }
    },
    {
      "cell_type": "markdown",
      "source": [
        "7. Using the Fraction class but not the Decimal class, give an example of a quantity that can be\n",
        "expressed with absolute precision."
      ],
      "metadata": {
        "id": "XHGs8Po1Zy61"
      }
    },
    {
      "cell_type": "markdown",
      "source": [
        "Ans: Value of 0.5 will be represented as ½."
      ],
      "metadata": {
        "id": "YoR8qPTKnA_1"
      }
    },
    {
      "cell_type": "markdown",
      "source": [
        "8. Describe a quantity that can be accurately expressed by the Decimal or Fraction classes but not by\n",
        "a floating-point value."
      ],
      "metadata": {
        "id": "vy0PMAmpZ2g-"
      }
    },
    {
      "cell_type": "markdown",
      "source": [
        "A quantity that cannot be accurately expressed using a floating-point value, but can be accurately expressed using the Decimal or Fraction classes is a value that requires a large number of decimal places or requires an exact representation of a fraction. For example, the value of 1/3 cannot be accurately expressed as a floating-point number, but can be represented exactly as a fraction. The Decimal class allows for arbitrary-precision decimal arithmetic, so any value with a large number of decimal places can be accurately represented using a Decimal object.\n",
        "\n",
        "In general, floating-point numbers are stored in a binary format, and as a result, some decimal values cannot be represented exactly in binary. This can result in inaccuracies and rounding errors when performing arithmetic operations with floating-point numbers. On the other hand, the Decimal and Fraction classes store values in a decimal or fractional format, respectively, and so they can accurately represent values that cannot be expressed using a floating-point value."
      ],
      "metadata": {
        "id": "AUX8web-vVa8"
      }
    },
    {
      "cell_type": "markdown",
      "source": [
        "Q9.Consider the following two fraction objects: Fraction(1, 2) and Fraction(1, 2). (5, 10). Is the internal\n",
        "state of these two objects the same? Why do you think that is?"
      ],
      "metadata": {
        "id": "aZ4emz0TcXUN"
      }
    },
    {
      "cell_type": "markdown",
      "source": [
        "Ans: Both will be reduced to 1/2"
      ],
      "metadata": {
        "id": "-orzlTxML0km"
      }
    },
    {
      "cell_type": "markdown",
      "source": [
        "Q10. How do the Fraction class and the integer type (int) relate to each other? Containment or\n",
        "inheritance?"
      ],
      "metadata": {
        "id": "xhGuW6V2ca-s"
      }
    },
    {
      "cell_type": "markdown",
      "source": [
        "Ans: Fraction class and integer type(int) are related in form of a container.It contains two ints, one the numerator and the other the denominator"
      ],
      "metadata": {
        "id": "67CAbGW-L43B"
      }
    },
    {
      "cell_type": "code",
      "source": [],
      "metadata": {
        "id": "8c3knbGPYDrl"
      },
      "execution_count": null,
      "outputs": []
    },
    {
      "cell_type": "code",
      "source": [],
      "metadata": {
        "id": "fWRzN5GwYDuj"
      },
      "execution_count": null,
      "outputs": []
    },
    {
      "cell_type": "code",
      "source": [],
      "metadata": {
        "id": "2u7-QcJJYDx6"
      },
      "execution_count": null,
      "outputs": []
    },
    {
      "cell_type": "code",
      "source": [],
      "metadata": {
        "id": "dmaldCGlYD1V"
      },
      "execution_count": null,
      "outputs": []
    },
    {
      "cell_type": "code",
      "source": [],
      "metadata": {
        "id": "qaL_kP5_YD4f"
      },
      "execution_count": null,
      "outputs": []
    },
    {
      "cell_type": "code",
      "source": [],
      "metadata": {
        "id": "HX2xaSjjYD74"
      },
      "execution_count": null,
      "outputs": []
    }
  ]
}