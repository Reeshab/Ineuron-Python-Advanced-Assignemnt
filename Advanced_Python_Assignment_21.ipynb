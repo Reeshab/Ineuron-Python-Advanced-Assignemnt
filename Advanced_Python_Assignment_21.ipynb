{
  "nbformat": 4,
  "nbformat_minor": 0,
  "metadata": {
    "colab": {
      "provenance": [],
      "authorship_tag": "ABX9TyNIrKt7rPT6c3yFTy3rWhvu",
      "include_colab_link": true
    },
    "kernelspec": {
      "name": "python3",
      "display_name": "Python 3"
    },
    "language_info": {
      "name": "python"
    }
  },
  "cells": [
    {
      "cell_type": "markdown",
      "metadata": {
        "id": "view-in-github",
        "colab_type": "text"
      },
      "source": [
        "<a href=\"https://colab.research.google.com/github/Reeshab/Ineuron-Python-Advanced-Assignemnt/blob/main/Advanced_Python_Assignment_21.ipynb\" target=\"_parent\"><img src=\"https://colab.research.google.com/assets/colab-badge.svg\" alt=\"Open In Colab\"/></a>"
      ]
    },
    {
      "cell_type": "markdown",
      "source": [
        "Q1. What is a probability distribution, exactly? If the values are meant to be random, how can you\n",
        "predict them at all?"
      ],
      "metadata": {
        "id": "S_pizHQVanc0"
      }
    },
    {
      "cell_type": "markdown",
      "source": [
        "Ans: A probability distribution describes how a random variable is distributed.\n",
        "\n",
        "It tells us which values a random variable is most likely to take on and which values are less likely. Based on the previous data and the occurences of the random event, we can predict the outcome in terms of probabilities."
      ],
      "metadata": {
        "id": "7QN743Ybbu88"
      }
    },
    {
      "cell_type": "markdown",
      "source": [
        "Q2. Is there a distinction between true random numbers and pseudo-random numbers, if there is\n",
        "one? Why are the latter considered “good enough”?"
      ],
      "metadata": {
        "id": "1bnoIbBfasoY"
      }
    },
    {
      "cell_type": "markdown",
      "source": [
        "Ans: : True Random Numbers are true physical values while pseudo-random numbers are generated internally by a program . Latter is considered good enough as they have sort of uniform distribution."
      ],
      "metadata": {
        "id": "77Jy0hsvb46c"
      }
    },
    {
      "cell_type": "markdown",
      "source": [
        "Q3. What are the two main factors that influence the behaviour of a &quot;normal&quot; probability distribution?"
      ],
      "metadata": {
        "id": "pYblBwUQaxwy"
      }
    },
    {
      "cell_type": "markdown",
      "source": [
        "Ans: Normal Probability Distribution are influenced by two factors mean and the variance."
      ],
      "metadata": {
        "id": "ZOq-tgEpcD_c"
      }
    },
    {
      "cell_type": "markdown",
      "source": [
        "Q4. Provide a real-life example of a normal distribution."
      ],
      "metadata": {
        "id": "WiqNnJlLa3kF"
      }
    },
    {
      "cell_type": "markdown",
      "source": [
        "Ans: A Real-life example of a normal distribution are heights or blood pressure measurements"
      ],
      "metadata": {
        "id": "FZR83ktwcLFb"
      }
    },
    {
      "cell_type": "markdown",
      "source": [
        "Q5. In the short term, how can you expect a probability distribution to behave? What do you think will\n",
        "happen as the number of trials grows?"
      ],
      "metadata": {
        "id": "TewJSa6qa7jP"
      }
    },
    {
      "cell_type": "markdown",
      "source": [
        "Ans: Variance will decrease with number of trials"
      ],
      "metadata": {
        "id": "oT5KFUiocZhX"
      }
    },
    {
      "cell_type": "markdown",
      "source": [
        "Q6. What kind of object can be shuffled by using random.shuffle?"
      ],
      "metadata": {
        "id": "AXYWeTwHa_5T"
      }
    },
    {
      "cell_type": "markdown",
      "source": [
        "Ans: lists (list), strings (str) and tuples (tuple) objects can be shuffled by using random.shuffle."
      ],
      "metadata": {
        "id": "rnTDj-znck-h"
      }
    },
    {
      "cell_type": "markdown",
      "source": [
        "Q7. Describe the math package&#39;s general categories of functions."
      ],
      "metadata": {
        "id": "yK14eVi_bIH-"
      }
    },
    {
      "cell_type": "markdown",
      "source": [
        "Ans: The Math package's general categories of functions are:\n",
        "\n",
        "Trigonometric functions\n",
        "\n",
        "Quadratic functions\n",
        "\n",
        "Exponential functions\n",
        "\n",
        "Hyperbolic functions\n",
        "\n",
        "Periodic functions\n",
        "\n",
        "Arithmetic functions\n",
        "\n",
        "Logarithimic functions\n",
        "\n",
        "Conversions to Integer"
      ],
      "metadata": {
        "id": "BYM9NtwRdRS0"
      }
    },
    {
      "cell_type": "markdown",
      "source": [
        "Q8. What is the relationship between exponentiation and logarithms?"
      ],
      "metadata": {
        "id": "XjifICXzbMrO"
      }
    },
    {
      "cell_type": "markdown",
      "source": [
        "Ans: Exponentiation and logarithms are inverse of each other."
      ],
      "metadata": {
        "id": "TdiIj_2qdbEO"
      }
    },
    {
      "cell_type": "markdown",
      "source": [
        "Q9. What are the three logarithmic functions that Python supports?"
      ],
      "metadata": {
        "id": "8s0qB8mkbQKs"
      }
    },
    {
      "cell_type": "markdown",
      "source": [
        "Ans: The Three Logarithmic Functions that Python supports are:\n",
        "\n",
        "log2(x) - logarithmic value of x to base 2\n",
        "\n",
        "log10(x) - logarithmic value of x to base 10\n",
        "\n",
        "log1p(a) - This function is used to compute logarithm(1+a) ."
      ],
      "metadata": {
        "id": "s02QrqVTdj4G"
      }
    },
    {
      "cell_type": "code",
      "source": [],
      "metadata": {
        "id": "UTWxklZgaRlX"
      },
      "execution_count": null,
      "outputs": []
    },
    {
      "cell_type": "code",
      "source": [],
      "metadata": {
        "id": "1ubsu15zaRoU"
      },
      "execution_count": null,
      "outputs": []
    },
    {
      "cell_type": "code",
      "source": [],
      "metadata": {
        "id": "EFcLc6MAaRrF"
      },
      "execution_count": null,
      "outputs": []
    },
    {
      "cell_type": "code",
      "source": [],
      "metadata": {
        "id": "eIFbHON3aRtt"
      },
      "execution_count": null,
      "outputs": []
    },
    {
      "cell_type": "code",
      "source": [],
      "metadata": {
        "id": "Ng6K3GHnaRwv"
      },
      "execution_count": null,
      "outputs": []
    },
    {
      "cell_type": "code",
      "source": [],
      "metadata": {
        "id": "6MXc2oQNaR02"
      },
      "execution_count": null,
      "outputs": []
    },
    {
      "cell_type": "code",
      "source": [],
      "metadata": {
        "id": "gApmtvfZaR3F"
      },
      "execution_count": null,
      "outputs": []
    },
    {
      "cell_type": "code",
      "source": [],
      "metadata": {
        "id": "w3JWDRigaR5-"
      },
      "execution_count": null,
      "outputs": []
    },
    {
      "cell_type": "code",
      "source": [],
      "metadata": {
        "id": "izHFNGdoaR83"
      },
      "execution_count": null,
      "outputs": []
    },
    {
      "cell_type": "code",
      "source": [],
      "metadata": {
        "id": "32o7HsccaR_u"
      },
      "execution_count": null,
      "outputs": []
    },
    {
      "cell_type": "code",
      "source": [],
      "metadata": {
        "id": "gMWRGaYxaSC0"
      },
      "execution_count": null,
      "outputs": []
    },
    {
      "cell_type": "code",
      "source": [],
      "metadata": {
        "id": "yRPtIUVUaSGM"
      },
      "execution_count": null,
      "outputs": []
    }
  ]
}