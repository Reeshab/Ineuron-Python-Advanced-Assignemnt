{
  "nbformat": 4,
  "nbformat_minor": 0,
  "metadata": {
    "colab": {
      "provenance": [],
      "authorship_tag": "ABX9TyOmbwz95zW3AeYewDoZz+ZF",
      "include_colab_link": true
    },
    "kernelspec": {
      "name": "python3",
      "display_name": "Python 3"
    },
    "language_info": {
      "name": "python"
    }
  },
  "cells": [
    {
      "cell_type": "markdown",
      "metadata": {
        "id": "view-in-github",
        "colab_type": "text"
      },
      "source": [
        "<a href=\"https://colab.research.google.com/github/Reeshab/Ineuron-Python-Advanced-Assignemnt/blob/main/Advanced_Python_Assignment_3.ipynb\" target=\"_parent\"><img src=\"https://colab.research.google.com/assets/colab-badge.svg\" alt=\"Open In Colab\"/></a>"
      ]
    },
    {
      "cell_type": "markdown",
      "source": [
        "1. What is the concept of an abstract superclass?"
      ],
      "metadata": {
        "id": "VnWzW5GhSw6A"
      }
    },
    {
      "cell_type": "markdown",
      "source": [
        "Ans: An abstract class/superclass can be considered as a blueprint for other classes. It allows you create a set of methods that must be created with any child classes built from the abstract class . A class which contains one  or more abstract methods is called an abstarct class."
      ],
      "metadata": {
        "id": "y8-LgYKzTaVP"
      }
    },
    {
      "cell_type": "markdown",
      "source": [
        "Where as abstract method that has a declaration but does not have an implementation."
      ],
      "metadata": {
        "id": "jqXaoPiWURxx"
      }
    },
    {
      "cell_type": "code",
      "source": [
        "from abc import ABC, abstarctmethod\n",
        "class Polygon(ABC):\n",
        "      @abstarctmethod\n",
        "      def sides(self):\n",
        "           pass\n",
        "class Triangle(Polygon):\n",
        "        def sides(self):\n",
        "           print(\"I have 3 sides\")\n",
        "class Pentagon(Polygon):\n",
        "       def  sides(self):\n",
        "           print(\"I have 5 sides\")     "
      ],
      "metadata": {
        "id": "PfbwjThjWx-0"
      },
      "execution_count": null,
      "outputs": []
    },
    {
      "cell_type": "markdown",
      "source": [
        "2. What happens when a class statement&#39;s top level contains a basic assignment statement?"
      ],
      "metadata": {
        "id": "mQFOkI8nTCcm"
      }
    },
    {
      "cell_type": "markdown",
      "source": [
        "Ans : When a class statement's top level contains a basic assignment statement, its usually treated as a class attributed or class level variable.\n",
        "\n",
        "where as assignment statements inside methods are treated as instance attributes or local attributes.\n",
        "\n",
        "\n",
        "When an instance of a class is created a single copy of class attributes is maintained and shared to all instances of class. where as each instance object maintains its own copy of instance variables."
      ],
      "metadata": {
        "id": "tuqozxqXYxX-"
      }
    },
    {
      "cell_type": "code",
      "source": [
        "class Person:\n",
        "     species = 'Binomial'\n",
        "     def __init__(self,name,gender):\n",
        "         self.name = name \n",
        "         self.gender = gender"
      ],
      "metadata": {
        "id": "DlVyNRx1Ppp-"
      },
      "execution_count": null,
      "outputs": []
    },
    {
      "cell_type": "markdown",
      "source": [
        "3. Why does a class need to manually call a superclass&#39;s __init__ method?"
      ],
      "metadata": {
        "id": "cZy71f3wTHsR"
      }
    },
    {
      "cell_type": "markdown",
      "source": [
        "Ans : if a child class has  __init__ method, then it will not inherit __init__ method of the parent class. Another word  __init__ method of the child of the parent class. we call a parent superclass's  __init__ using super() method.\n"
      ],
      "metadata": {
        "id": "-HUtxHbvbe-Z"
      }
    },
    {
      "cell_type": "code",
      "source": [
        "class Person:\n",
        "    def __init__(self,name,age):\n",
        "        self.name = name\n",
        "        self.age = age       \n",
        "class Employee(Person):\n",
        "    def __init__(self,name,age,salary):\n",
        "        super().__init__(name,age)\n",
        "        self.salary = salary\n",
        "emp_1 = Employee('Reeshab',23,10000)\n",
        "print(emp_1.__dict__)"
      ],
      "metadata": {
        "colab": {
          "base_uri": "https://localhost:8080/"
        },
        "id": "MFjZRpflPps_",
        "outputId": "3b9201b6-4819-45de-afa4-b863117a7cc8"
      },
      "execution_count": 5,
      "outputs": [
        {
          "output_type": "stream",
          "name": "stdout",
          "text": [
            "{'name': 'Reeshab', 'age': 23, 'salary': 10000}\n"
          ]
        }
      ]
    },
    {
      "cell_type": "markdown",
      "source": [
        "4. How can you augment, instead of completely replacing, an inherited method?"
      ],
      "metadata": {
        "id": "GjD40Yz4TK94"
      }
    },
    {
      "cell_type": "markdown",
      "source": [
        "super() method can be used to augment , instead of completely replacing, an inherited method."
      ],
      "metadata": {
        "id": "d1RmrKzYi7Wl"
      }
    },
    {
      "cell_type": "code",
      "source": [
        "class Person:\n",
        "     def __init__(self,name,gender):\n",
        "         self.name = name\n",
        "         self.gender = gender\n",
        "class Employee(Person):\n",
        "     def __init__(self,name,gender,salary):\n",
        "         super().__init__(name,gender)\n",
        "         self.salary = salary\n",
        "emp1 = Employee('Reeshab','Male',200000) \n",
        "print(emp_1.__dict__)                \n"
      ],
      "metadata": {
        "colab": {
          "base_uri": "https://localhost:8080/"
        },
        "id": "vbug4dXMPpv3",
        "outputId": "6cab8b30-5594-4443-f9d4-3f5002688601"
      },
      "execution_count": 8,
      "outputs": [
        {
          "output_type": "stream",
          "name": "stdout",
          "text": [
            "{'name': 'Reeshab', 'age': 23, 'salary': 10000}\n"
          ]
        }
      ]
    },
    {
      "cell_type": "markdown",
      "source": [
        "5. How is the local scope of a class different from that of a function?"
      ],
      "metadata": {
        "id": "6aD1dUSBTObl"
      }
    },
    {
      "cell_type": "markdown",
      "source": [
        "Ans: A variable which is defined inside a function is local to that function. It is accessible from the point at which it is defined until the end of the function and exist fo as long as the function is existing.\n",
        "\n",
        "A variable inside of a class also has a local variable scope. Variables which are defined in the class body (but outside all methods) are called as class level variables or class attributes. they can be referenced by there bare names within the same scope, but they can also be accessed from outside this scope if we use the attribute access operator (.). on a class or an instance of the class\n"
      ],
      "metadata": {
        "id": "5dmi777BlT6e"
      }
    },
    {
      "cell_type": "code",
      "source": [
        "def hello(name):\n",
        "    name = name\n",
        "    print(f'you\\'re name is {name}')\n",
        "hello('Reeshab')\n",
        "try:\n",
        "    name\n",
        "except NameError:\n",
        "    print('Name varible is not available outside hello function scope')\n",
        "\n",
        "class Person:\n",
        "    species = \"Lobomina\"\n",
        "    def __init__(self):\n",
        "        pass\n",
        "print(Person.species) \n",
        "Male = Person()\n",
        "print(Male.species) "
      ],
      "metadata": {
        "colab": {
          "base_uri": "https://localhost:8080/"
        },
        "id": "ej3IrU3RPpyj",
        "outputId": "6151a4f6-4c36-445c-9b52-c1620c9fcc0f"
      },
      "execution_count": 10,
      "outputs": [
        {
          "output_type": "stream",
          "name": "stdout",
          "text": [
            "you're name is Reeshab\n",
            "Name varible is not available outside hello function scope\n",
            "Lobomina\n",
            "Lobomina\n"
          ]
        }
      ]
    },
    {
      "cell_type": "code",
      "source": [],
      "metadata": {
        "id": "SAoKJJ9fPp1M"
      },
      "execution_count": null,
      "outputs": []
    },
    {
      "cell_type": "code",
      "source": [],
      "metadata": {
        "id": "mp-D0gG8Pp4B"
      },
      "execution_count": null,
      "outputs": []
    },
    {
      "cell_type": "code",
      "source": [],
      "metadata": {
        "id": "1Us3aVGAPp7A"
      },
      "execution_count": null,
      "outputs": []
    },
    {
      "cell_type": "code",
      "source": [],
      "metadata": {
        "id": "XiXqa8ABPp-P"
      },
      "execution_count": null,
      "outputs": []
    },
    {
      "cell_type": "code",
      "source": [],
      "metadata": {
        "id": "z4qSXKu1PqBF"
      },
      "execution_count": null,
      "outputs": []
    },
    {
      "cell_type": "code",
      "source": [],
      "metadata": {
        "id": "9e_U0iGbPqED"
      },
      "execution_count": null,
      "outputs": []
    },
    {
      "cell_type": "code",
      "source": [],
      "metadata": {
        "id": "l7GobnaQPqGy"
      },
      "execution_count": null,
      "outputs": []
    },
    {
      "cell_type": "code",
      "source": [],
      "metadata": {
        "id": "KBaZpiE6PqJ-"
      },
      "execution_count": null,
      "outputs": []
    },
    {
      "cell_type": "code",
      "source": [],
      "metadata": {
        "id": "Itvr_cTzPqMj"
      },
      "execution_count": null,
      "outputs": []
    },
    {
      "cell_type": "code",
      "source": [],
      "metadata": {
        "id": "dObBR85mPqP7"
      },
      "execution_count": null,
      "outputs": []
    }
  ]
}