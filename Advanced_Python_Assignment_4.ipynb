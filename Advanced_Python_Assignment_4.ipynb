{
  "nbformat": 4,
  "nbformat_minor": 0,
  "metadata": {
    "colab": {
      "provenance": [],
      "authorship_tag": "ABX9TyOW9fehQmf+ZOZ1/JnMknnI",
      "include_colab_link": true
    },
    "kernelspec": {
      "name": "python3",
      "display_name": "Python 3"
    },
    "language_info": {
      "name": "python"
    }
  },
  "cells": [
    {
      "cell_type": "markdown",
      "metadata": {
        "id": "view-in-github",
        "colab_type": "text"
      },
      "source": [
        "<a href=\"https://colab.research.google.com/github/Reeshab/Ineuron-Python-Advanced-Assignemnt/blob/main/Advanced_Python_Assignment_4.ipynb\" target=\"_parent\"><img src=\"https://colab.research.google.com/assets/colab-badge.svg\" alt=\"Open In Colab\"/></a>"
      ]
    },
    {
      "cell_type": "markdown",
      "source": [
        "Q1. Which two operator overloading methods can you use in your classes to support iteration?"
      ],
      "metadata": {
        "id": "X-7pOrygvEfs"
      }
    },
    {
      "cell_type": "markdown",
      "source": [
        "Ans: __iter__ and __next__ are the operator overloading methods in python that support iteration and are collectively called iterator protocol.\n",
        "\n",
        "\n",
        "=> __iter__ returns the iterator object and is called at start loop in the respective class.\n",
        "\n",
        "\n",
        "\n",
        "=> __next__ is called at each loop increment, so that it returns incremented values. It also stopiteration is raised when there is no value to return."
      ],
      "metadata": {
        "id": "-zwmntkOxhl2"
      }
    },
    {
      "cell_type": "code",
      "execution_count": 2,
      "metadata": {
        "colab": {
          "base_uri": "https://localhost:8080/"
        },
        "id": "_Tydinvfu58V",
        "outputId": "b76ae492-9590-4228-be1b-67fbf1513aeb"
      },
      "outputs": [
        {
          "output_type": "stream",
          "name": "stdout",
          "text": [
            "6 7 8 9 10 11 12 13 14 15 "
          ]
        }
      ],
      "source": [
        "class Counter:\n",
        "    def __init__(self,low,high):\n",
        "        self.current = low\n",
        "        self.high = high\n",
        "    def __iter__(self):\n",
        "        return self\n",
        "    def __next__(self):\n",
        "        if self.current > self.high:\n",
        "            raise StopIteration\n",
        "        else:\n",
        "            self.current += 1\n",
        "            return self.current - 1\n",
        "for element in Counter(6,15):\n",
        "    print(element, end=\" \")"
      ]
    },
    {
      "cell_type": "markdown",
      "source": [
        "Q2. In what contexts do the two operator overloading methods manage printing?"
      ],
      "metadata": {
        "id": "r8BqZsb_vJr0"
      }
    },
    {
      "cell_type": "markdown",
      "source": [
        "Ans : __str__ and __repr__ are two operator overloading methods that manage printing. \n",
        "\n",
        "=>  The goal of __repr__ is to be not ambigiousness and __str__ is to be readable.\n",
        "\n",
        "\n",
        "Whenever we are printing any object reference internally __str__ method will be called by default.\n",
        "\n",
        "\n",
        "The main purpose of __str__ is for readability. it prints the informal string representation of an object, one that is useful for printing the object. it may not be possible to convert result string to original object.\n",
        "\n",
        "\n",
        "__repr__ is used to print official string representation of an object, so it includes all information and development."
      ],
      "metadata": {
        "id": "xiP3m_Lx5GvL"
      }
    },
    {
      "cell_type": "code",
      "source": [
        "class Student:\n",
        "    def __init__(self,name,roll_no):\n",
        "        self.name = name\n",
        "        self.roll_no = roll_no\n",
        "        \n",
        "s1 = Student(\"Reeshab\",1)\n",
        "print(str(s1))\n",
        "\n",
        "class Student:\n",
        "    def __init__(self,name,roll_no):\n",
        "        self.name = name\n",
        "        self.roll_no = roll_no\n",
        "    def __str__(self):\n",
        "        return f'Student Name: {self.name} and Roll No: {self.roll_no}'\n",
        "    \n",
        "s1 = Student(\"Reeshab\",1)\n",
        "print(str(s1))\n",
        "\n",
        "import datetime\n",
        "today = datetime.datetime.now()\n",
        "\n",
        "s = str(today) \n",
        "print(s)\n",
        "try: d = eval(s) \n",
        "except: print(\"Unable to convert back to original object\")\n",
        "    \n",
        "u = repr(today) \n",
        "print(u)\n",
        "e = eval(u) \n",
        "print(e)\n",
        "       "
      ],
      "metadata": {
        "colab": {
          "base_uri": "https://localhost:8080/"
        },
        "id": "mQek1gg9u6hG",
        "outputId": "113a112e-e276-40f1-c8d4-d8bf8857ba7f"
      },
      "execution_count": 3,
      "outputs": [
        {
          "output_type": "stream",
          "name": "stdout",
          "text": [
            "<__main__.Student object at 0x7f8af59b82d0>\n",
            "Student Name: Reeshab and Roll No: 1\n",
            "2022-11-29 16:19:40.474182\n",
            "Unable to convert back to original object\n",
            "datetime.datetime(2022, 11, 29, 16, 19, 40, 474182)\n",
            "2022-11-29 16:19:40.474182\n"
          ]
        }
      ]
    },
    {
      "cell_type": "markdown",
      "source": [
        "Q3. In a class, how do you intercept slice operations?"
      ],
      "metadata": {
        "id": "IVZvrbBWvNh6"
      }
    },
    {
      "cell_type": "markdown",
      "source": [
        "In a class we use slice() in __getiteam__ method is used for intercept slice operation.his slice method is provided with start integer number, stop integer number and step integer number.\n",
        "\n",
        "__getitem__(slice(start,stop,step))"
      ],
      "metadata": {
        "id": "BqH9y5ECNF_J"
      }
    },
    {
      "cell_type": "markdown",
      "source": [
        "Q4. In a class, how do you capture in-place addition?"
      ],
      "metadata": {
        "id": "4FHU4uW3vTIy"
      }
    },
    {
      "cell_type": "markdown",
      "source": [
        "Ans: a + bis an addittion . Where as a+=b is in place addittion operation. In this operation addition a itself will store the value of addition . In a class __iadd__ method is used for this in-place operation."
      ],
      "metadata": {
        "id": "16y5RNtVSeke"
      }
    },
    {
      "cell_type": "code",
      "source": [
        "class Book:\n",
        "     def __init__(self,pages):\n",
        "         self.pages = pages\n",
        "     def __iadd__(self,other):\n",
        "         self.pages += other.pages\n",
        "         return self.pages\n",
        "\n",
        "b1 = Book(500)\n",
        "b2 = Book(600)\n",
        "b1+=b2\n",
        "print(b1)              "
      ],
      "metadata": {
        "colab": {
          "base_uri": "https://localhost:8080/"
        },
        "id": "m5flMhdhppUi",
        "outputId": "5f6203dc-621c-485e-ba3f-1e71eb8b754d"
      },
      "execution_count": 2,
      "outputs": [
        {
          "output_type": "stream",
          "name": "stdout",
          "text": [
            "1100\n"
          ]
        }
      ]
    },
    {
      "cell_type": "markdown",
      "source": [
        "Q5. When is it appropriate to use operator overloading?"
      ],
      "metadata": {
        "id": "nV_0Yd1SvW1a"
      }
    },
    {
      "cell_type": "markdown",
      "source": [
        "Ans: Operator overloading is used when we want to use an operator other than its normal operation to have different meaning according to the context required in user defined function."
      ],
      "metadata": {
        "id": "Tm6E_iaSxH1a"
      }
    },
    {
      "cell_type": "code",
      "source": [
        "class Book:\n",
        "    def __init__(self,pages):\n",
        "        self.pages = pages\n",
        "    def __add__(self,other):\n",
        "        return self.pages+other.pages\n",
        "d1 = Book(700)\n",
        "d2 = Book(500)\n",
        "print(f'Total Number of Pages -> {d1+d2}')"
      ],
      "metadata": {
        "colab": {
          "base_uri": "https://localhost:8080/"
        },
        "id": "VUf3JdVnu6ph",
        "outputId": "741d04ee-a6fe-4754-f81d-6dfebf277367"
      },
      "execution_count": 4,
      "outputs": [
        {
          "output_type": "stream",
          "name": "stdout",
          "text": [
            "Total Number of Pages -> 1200\n"
          ]
        }
      ]
    },
    {
      "cell_type": "code",
      "source": [],
      "metadata": {
        "id": "FMR4yOihu6sZ"
      },
      "execution_count": null,
      "outputs": []
    },
    {
      "cell_type": "code",
      "source": [],
      "metadata": {
        "id": "NhXQCUhcu6u7"
      },
      "execution_count": null,
      "outputs": []
    },
    {
      "cell_type": "code",
      "source": [],
      "metadata": {
        "id": "LImfR87Tu6xV"
      },
      "execution_count": null,
      "outputs": []
    },
    {
      "cell_type": "code",
      "source": [],
      "metadata": {
        "id": "BNGRVOTlu6z9"
      },
      "execution_count": null,
      "outputs": []
    },
    {
      "cell_type": "code",
      "source": [],
      "metadata": {
        "id": "JB-DE_C3u63B"
      },
      "execution_count": null,
      "outputs": []
    },
    {
      "cell_type": "code",
      "source": [],
      "metadata": {
        "id": "R4Z3-lybu66e"
      },
      "execution_count": null,
      "outputs": []
    }
  ]
}