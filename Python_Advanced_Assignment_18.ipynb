{
  "nbformat": 4,
  "nbformat_minor": 0,
  "metadata": {
    "colab": {
      "provenance": [],
      "authorship_tag": "ABX9TyOybC3GnkdPh2B25IiPyL1o",
      "include_colab_link": true
    },
    "kernelspec": {
      "name": "python3",
      "display_name": "Python 3"
    },
    "language_info": {
      "name": "python"
    }
  },
  "cells": [
    {
      "cell_type": "markdown",
      "metadata": {
        "id": "view-in-github",
        "colab_type": "text"
      },
      "source": [
        "<a href=\"https://colab.research.google.com/github/Reeshab/Ineuron-Python-Advanced-Assignemnt/blob/main/Python_Advanced_Assignment_18.ipynb\" target=\"_parent\"><img src=\"https://colab.research.google.com/assets/colab-badge.svg\" alt=\"Open In Colab\"/></a>"
      ]
    },
    {
      "cell_type": "markdown",
      "source": [
        "Q1. Describe the differences between text and binary files in a single paragraph."
      ],
      "metadata": {
        "id": "PUbYo2RUNQNp"
      }
    },
    {
      "cell_type": "markdown",
      "source": [
        "Ans: The differences between Text Files and Binary Files are:\n",
        "\n",
        "Text files are special subset of binary files that are used to store human readable characters as a rich text document or plain text document. Text files also store data in sequential bytes but bits in text file represents characters.\n",
        "\n",
        "Binary files are those typical files that store data in the form of sequence of bytes grouped into eight bits or sometimes sixteen bits. These bits represent custom data and such files can store multiple types of data (images, audio, text, etc) under a single file."
      ],
      "metadata": {
        "id": "1qe88i_oPEEG"
      }
    },
    {
      "cell_type": "markdown",
      "source": [
        "Q2. What are some scenarios where using text files will be the better option? When would you like to\n",
        "use binary files instead of text files?"
      ],
      "metadata": {
        "id": "ZqWDCMDHNVUs"
      }
    },
    {
      "cell_type": "markdown",
      "source": [
        "Ans: Text files are less prone to get corrupted as any undesired change may just show up once the file is opened and then can easily be removed. Whereas Use binary files instead of text files for image data."
      ],
      "metadata": {
        "id": "sJlJYkNnPmWJ"
      }
    },
    {
      "cell_type": "markdown",
      "source": [
        "Q3. What are some of the issues with using binary operations to read and write a Python integer\n",
        "directly to disc?"
      ],
      "metadata": {
        "id": "wVCZm3JJNeDM"
      }
    },
    {
      "cell_type": "markdown",
      "source": [
        "Ans: When we read or write a python integer using binary operations\n",
        "\n",
        "Binary operations deal with raw data\n",
        "One needs to identify how many bytes one would read or write."
      ],
      "metadata": {
        "id": "IIA_3MbDSPqW"
      }
    },
    {
      "cell_type": "markdown",
      "source": [
        "Q4. Describe a benefit of using the with keyword instead of explicitly opening a file."
      ],
      "metadata": {
        "id": "o2fPmVbDNvBa"
      }
    },
    {
      "cell_type": "markdown",
      "source": [
        "Ans: When a file is opened using the with keyword, if some exceptions occur after opening a file, or at the end of the file it automatically does the closing of the file. There by not leaving an file in open mode and there would no need to explicitly close a file."
      ],
      "metadata": {
        "id": "XxSzcGnZTLgG"
      }
    },
    {
      "cell_type": "markdown",
      "source": [
        "Q5. Does Python have the trailing newline while reading a line of text? Does Python append a\n",
        "newline when you write a line of text?"
      ],
      "metadata": {
        "id": "f74GkCcTNzhH"
      }
    },
    {
      "cell_type": "markdown",
      "source": [
        "Ans: Yes, Python have the trailing newline while reading a line of text. When we write a newline has to be provided in python excpicitly."
      ],
      "metadata": {
        "id": "OOkfYXUdTQvs"
      }
    },
    {
      "cell_type": "markdown",
      "source": [
        "Q6. What file operations enable for random-access operation?"
      ],
      "metadata": {
        "id": "YKGKzR9ON56K"
      }
    },
    {
      "cell_type": "markdown",
      "source": [
        "Ans: The file operations enable for random-access operation are seek() and tell()"
      ],
      "metadata": {
        "id": "Znk50S8YTbvs"
      }
    },
    {
      "cell_type": "markdown",
      "source": [
        "Q7. When do you think you&#39;ll use the struct package the most?"
      ],
      "metadata": {
        "id": "k1xgG6jmN-KO"
      }
    },
    {
      "cell_type": "markdown",
      "source": [
        "Ans: The struct package is mostly used while converting a common python types into C language types."
      ],
      "metadata": {
        "id": "p6MpHYglTj7T"
      }
    },
    {
      "cell_type": "markdown",
      "source": [
        "Q8. When is pickling the best option?"
      ],
      "metadata": {
        "id": "L5IdQj6EOC5k"
      }
    },
    {
      "cell_type": "markdown",
      "source": [
        "Ans: Pickling is best option for creating a new binary file using python."
      ],
      "metadata": {
        "id": "-rXd2yzOT0Pk"
      }
    },
    {
      "cell_type": "markdown",
      "source": [
        "Q9. When will it be best to use the shelve package?"
      ],
      "metadata": {
        "id": "zEhFnNu_OG7z"
      }
    },
    {
      "cell_type": "markdown",
      "source": [
        "Ans: Shelve package is used to pickle data but treats the entire file as dictionary."
      ],
      "metadata": {
        "id": "6OojJmXGT4yd"
      }
    },
    {
      "cell_type": "markdown",
      "source": [
        "Q10. What is a special restriction when using the shelve package, as opposed to using other data\n",
        "dictionaries?"
      ],
      "metadata": {
        "id": "1z4HweqyOKH-"
      }
    },
    {
      "cell_type": "markdown",
      "source": [
        "Ans: Only string data type can be used as key in this special dictionary object, whereas any picklable Python object can be used as value."
      ],
      "metadata": {
        "id": "VmcLqRr0T9by"
      }
    },
    {
      "cell_type": "code",
      "source": [],
      "metadata": {
        "id": "XEEZVlKgNIe-"
      },
      "execution_count": null,
      "outputs": []
    },
    {
      "cell_type": "code",
      "source": [],
      "metadata": {
        "id": "r8ZLYt99NIh8"
      },
      "execution_count": null,
      "outputs": []
    },
    {
      "cell_type": "code",
      "source": [],
      "metadata": {
        "id": "GwpRhnDaNIkx"
      },
      "execution_count": null,
      "outputs": []
    },
    {
      "cell_type": "code",
      "source": [],
      "metadata": {
        "id": "daeYe6M4NInm"
      },
      "execution_count": null,
      "outputs": []
    },
    {
      "cell_type": "code",
      "source": [],
      "metadata": {
        "id": "DMCR9dnlNIqc"
      },
      "execution_count": null,
      "outputs": []
    },
    {
      "cell_type": "code",
      "source": [],
      "metadata": {
        "id": "_dZ4j_Z9NIuG"
      },
      "execution_count": null,
      "outputs": []
    }
  ]
}