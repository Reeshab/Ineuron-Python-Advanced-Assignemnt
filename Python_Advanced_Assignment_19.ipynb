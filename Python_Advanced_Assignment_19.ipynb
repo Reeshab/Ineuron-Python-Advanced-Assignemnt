{
  "nbformat": 4,
  "nbformat_minor": 0,
  "metadata": {
    "colab": {
      "provenance": [],
      "authorship_tag": "ABX9TyNTjTH+wKjqhPCEeUJH3jrk",
      "include_colab_link": true
    },
    "kernelspec": {
      "name": "python3",
      "display_name": "Python 3"
    },
    "language_info": {
      "name": "python"
    }
  },
  "cells": [
    {
      "cell_type": "markdown",
      "metadata": {
        "id": "view-in-github",
        "colab_type": "text"
      },
      "source": [
        "<a href=\"https://colab.research.google.com/github/Reeshab/Ineuron-Python-Advanced-Assignemnt/blob/main/Python_Advanced_Assignment_19.ipynb\" target=\"_parent\"><img src=\"https://colab.research.google.com/assets/colab-badge.svg\" alt=\"Open In Colab\"/></a>"
      ]
    },
    {
      "cell_type": "markdown",
      "source": [
        "Q1. Define the relationship between a class and its instances. Is it a one-to-one or a one-to-many\n",
        "partnership, for example?"
      ],
      "metadata": {
        "id": "LgRt4-LgdfoN"
      }
    },
    {
      "cell_type": "markdown",
      "source": [
        "Ans: Relationship between a class and its instances is a one to many partnership."
      ],
      "metadata": {
        "id": "w028H9dFffex"
      }
    },
    {
      "cell_type": "markdown",
      "source": [
        "Q2. What kind of data is held only in an instance?"
      ],
      "metadata": {
        "id": "C1dwNev0djso"
      }
    },
    {
      "cell_type": "markdown",
      "source": [
        "Ans: Instance objects contains the Instance variables which are specific to that specific Instance object."
      ],
      "metadata": {
        "id": "hJfqpEn-i-gx"
      }
    },
    {
      "cell_type": "markdown",
      "source": [
        "Q3. What kind of knowledge is stored in a class?"
      ],
      "metadata": {
        "id": "nFfkPMFNdocu"
      }
    },
    {
      "cell_type": "markdown",
      "source": [
        "Ans: Class creates a user-defined data structure, which holds its own data members and member functions, which can be accessed and used by creating an instance of that class. A class is like a blueprint for an object."
      ],
      "metadata": {
        "id": "_AyK4TbbjaCK"
      }
    },
    {
      "cell_type": "markdown",
      "source": [
        "Q4. What exactly is a method, and how is it different from a regular function?"
      ],
      "metadata": {
        "id": "5Fk-wVCLdso5"
      }
    },
    {
      "cell_type": "markdown",
      "source": [
        "Ans: The methods with a class can be used to access the insatnce variables of its instance. So,the object's state can be modified by its method. Function can't access the attributes of an instance of a class or can't modify the state of the object."
      ],
      "metadata": {
        "id": "30OI2lDBpYsK"
      }
    },
    {
      "cell_type": "markdown",
      "source": [
        "Q5. Is inheritance supported in Python, and if so, what is the syntax?"
      ],
      "metadata": {
        "id": "O_p7plihdwM-"
      }
    },
    {
      "cell_type": "markdown",
      "source": [
        "Ans: Yes,Python supports inheritance. The Types of Inheritence Supported by Python are:\n",
        "\n",
        "Simple Inheritence\n",
        "Multiple Inheritence\n",
        "Multilevel lInheritence\n",
        "Hybrid Inheritence\n",
        "Hierracial Inheritence"
      ],
      "metadata": {
        "id": "_8c1Z457qCCx"
      }
    },
    {
      "cell_type": "code",
      "source": [
        "class Person:\n",
        "    def __init__(self, fname, lname):\n",
        "        self.first_name = fname\n",
        "        self.last_name = lname\n",
        "class Student(Person):\n",
        "    pass"
      ],
      "metadata": {
        "id": "5RNOPUTKqGig"
      },
      "execution_count": 1,
      "outputs": []
    },
    {
      "cell_type": "markdown",
      "source": [
        "Q6. How much encapsulation (making instance or class variables private) does Python support?"
      ],
      "metadata": {
        "id": "IW4ItVjddz92"
      }
    },
    {
      "cell_type": "markdown",
      "source": [
        "Ans: Encapsulation describes the idea of wrapping data and the methods that work on data within one unit. This puts restrictions on accessing variables and methods directly and can prevent the accidental modification of data. To prevent accidental change, an objects variable can only be changed by an objects method."
      ],
      "metadata": {
        "id": "AGDAxiJBqMVW"
      }
    },
    {
      "cell_type": "markdown",
      "source": [
        "Q7. How do you distinguish between a class variable and an instance variable?"
      ],
      "metadata": {
        "id": "lmE7Tiedd3RO"
      }
    },
    {
      "cell_type": "markdown",
      "source": [
        "Ans: The Class Attribute is available to all the instance objects of that class. whereas Instance Attributes are accessible only to the object or Instance of that class.\n",
        "\n",
        "A single copy of Class attributes is maintained by pvm at the class level. Whereas difference copies of instance attributes are maintained by pvm at objects/instance level."
      ],
      "metadata": {
        "id": "KLNFTo3IqT01"
      }
    },
    {
      "cell_type": "markdown",
      "source": [
        "Q8. When, if ever, can self be included in a class&#39;s method definitions?"
      ],
      "metadata": {
        "id": "4n6q4cxyd6-b"
      }
    },
    {
      "cell_type": "markdown",
      "source": [
        "Ans: Yes, self can included in class method definations to access the instance variables inside class methods."
      ],
      "metadata": {
        "id": "GId0E6pOqaqd"
      }
    },
    {
      "cell_type": "markdown",
      "source": [
        "Q9. What is the difference between the _ _add_ _ and the _ _radd_ _ methods?"
      ],
      "metadata": {
        "id": "KwAytA2aeDO-"
      }
    },
    {
      "cell_type": "markdown",
      "source": [
        "Ans: Entering __radd__ Python will first try __add__(), and if that returns Not Implemented Python will check if the right-hand operand implements __radd__, and if it does, it will call __radd__() rather than raising a TypeError"
      ],
      "metadata": {
        "id": "aciEt1o2qj4g"
      }
    },
    {
      "cell_type": "markdown",
      "source": [
        "Q10. When is it necessary to use a reflection method? When do you not need it, even though you\n",
        "support the operation in question?"
      ],
      "metadata": {
        "id": "dnt3DYIjeIjR"
      }
    },
    {
      "cell_type": "markdown",
      "source": [
        "Ans: Reflection method we often encounter the requirement that a method in the executing object, or a variable in the calling object, or a field of the object should be assigned, while the method name or field name can not be determined when encoding the code, and need to be input in the form of passing strings through parameters."
      ],
      "metadata": {
        "id": "DUN9G4TJqozx"
      }
    },
    {
      "cell_type": "markdown",
      "source": [
        "Q11. What is the _ _iadd_ _ method called?"
      ],
      "metadata": {
        "id": "ciESoI61eMN2"
      }
    },
    {
      "cell_type": "markdown",
      "source": [
        "Ans: __iadd__ method is called when we use implementation like a+=b which is a.__iadd__(b)"
      ],
      "metadata": {
        "id": "Gvcjp_-zqtR6"
      }
    },
    {
      "cell_type": "markdown",
      "source": [
        "Q12. Is the _ _init_ _ method inherited by subclasses? What do you do if you need to customize its\n",
        "behavior within a subclass?"
      ],
      "metadata": {
        "id": "5MGPVPkmePUg"
      }
    },
    {
      "cell_type": "markdown",
      "source": [
        "Ans: Yes, __init__ method will be inherited by subclasses. if we want to customize its behaviour within a subclass we can use super() method."
      ],
      "metadata": {
        "id": "1aYrQWQ-qxac"
      }
    },
    {
      "cell_type": "code",
      "source": [],
      "metadata": {
        "id": "ND1FLn4wWXts"
      },
      "execution_count": null,
      "outputs": []
    },
    {
      "cell_type": "code",
      "source": [],
      "metadata": {
        "id": "9i0Qc-ZnWXwk"
      },
      "execution_count": null,
      "outputs": []
    },
    {
      "cell_type": "code",
      "source": [],
      "metadata": {
        "id": "2iSBEf8cWXzd"
      },
      "execution_count": null,
      "outputs": []
    },
    {
      "cell_type": "code",
      "source": [],
      "metadata": {
        "id": "yoO545LnWX20"
      },
      "execution_count": null,
      "outputs": []
    }
  ]
}