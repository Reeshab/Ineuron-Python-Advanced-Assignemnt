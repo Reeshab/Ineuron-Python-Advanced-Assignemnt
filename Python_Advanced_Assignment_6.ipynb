{
  "nbformat": 4,
  "nbformat_minor": 0,
  "metadata": {
    "colab": {
      "provenance": [],
      "authorship_tag": "ABX9TyMi1l8esN4EPme5NptqIcRB",
      "include_colab_link": true
    },
    "kernelspec": {
      "name": "python3",
      "display_name": "Python 3"
    },
    "language_info": {
      "name": "python"
    }
  },
  "cells": [
    {
      "cell_type": "markdown",
      "metadata": {
        "id": "view-in-github",
        "colab_type": "text"
      },
      "source": [
        "<a href=\"https://colab.research.google.com/github/Reeshab/Ineuron-Python-Advanced-Assignemnt/blob/main/Python_Advanced_Assignment_6.ipynb\" target=\"_parent\"><img src=\"https://colab.research.google.com/assets/colab-badge.svg\" alt=\"Open In Colab\"/></a>"
      ]
    },
    {
      "cell_type": "markdown",
      "source": [
        "Q1. Describe three applications for exception processing."
      ],
      "metadata": {
        "id": "WBZ2RfwZpiIa"
      }
    },
    {
      "cell_type": "markdown",
      "source": [
        "Ans: Exception Processing is important to find exceptions that causes the runtime error. As runtime errors Halt the program execution when exception occurs.\n",
        "\n",
        "Exception Processing is used in Various Applications of which few examples are:\n",
        "\n",
        "1.Checking Appropriate use of input in an application\n",
        "\n",
        "2.Checking for Arithmetic exceptions in mathematical executions\n",
        "\n",
        "3.Checking File I/O exceptions during File handling"
      ],
      "metadata": {
        "id": "uZR7DrsPqXKr"
      }
    },
    {
      "cell_type": "markdown",
      "source": [
        "Q2. What happens if you don&#39;t do something extra to treat an exception?"
      ],
      "metadata": {
        "id": "Rc8eIXxwpmgc"
      }
    },
    {
      "cell_type": "markdown",
      "source": [
        "If Exceptions are not handled flow of program will be broken during the run time which might lead to a abnormal termination of the program. Inshort inability of program to handle exceptions will result in crashing of program."
      ],
      "metadata": {
        "id": "I_VYb_FdrhY_"
      }
    },
    {
      "cell_type": "markdown",
      "source": [
        "Q3. What are your options for recovering from an exception in your script?"
      ],
      "metadata": {
        "id": "5UYDnkPBpqCX"
      }
    },
    {
      "cell_type": "markdown",
      "source": [
        "Python provides try and except statements for recovering from an exception in your script."
      ],
      "metadata": {
        "id": "IIC2o3Ftrq09"
      }
    },
    {
      "cell_type": "markdown",
      "source": [
        "Q4. Describe two methods for triggering exceptions in your script."
      ],
      "metadata": {
        "id": "xbXL34MLpt43"
      }
    },
    {
      "cell_type": "markdown",
      "source": [
        "raise and assert are two methods we used to trigger manual exception in scripts.\n",
        "\n",
        ". raise exception if condition to it turns equal to true.\n",
        "\n",
        ". assert will let the program to continue execution if condition provided to it turns out to be True else exception will be raised"
      ],
      "metadata": {
        "id": "xSVC78BStmdN"
      }
    },
    {
      "cell_type": "code",
      "source": [
        "x = 11\n",
        "raise Exception(f'X Value Should not exceed 5 The Provided Value of X is {x}')"
      ],
      "metadata": {
        "id": "cnh-5OHPm3vA",
        "colab": {
          "base_uri": "https://localhost:8080/",
          "height": 182
        },
        "outputId": "43a54bfb-b7b7-4f13-fe24-62ff7e77c727"
      },
      "execution_count": 4,
      "outputs": [
        {
          "output_type": "error",
          "ename": "Exception",
          "evalue": "ignored",
          "traceback": [
            "\u001b[0;31m---------------------------------------------------------------------------\u001b[0m",
            "\u001b[0;31mException\u001b[0m                                 Traceback (most recent call last)",
            "\u001b[0;32m<ipython-input-4-05d4b3aa492d>\u001b[0m in \u001b[0;36m<module>\u001b[0;34m\u001b[0m\n\u001b[1;32m      1\u001b[0m \u001b[0mx\u001b[0m \u001b[0;34m=\u001b[0m \u001b[0;36m11\u001b[0m\u001b[0;34m\u001b[0m\u001b[0;34m\u001b[0m\u001b[0m\n\u001b[0;32m----> 2\u001b[0;31m \u001b[0;32mraise\u001b[0m \u001b[0mException\u001b[0m\u001b[0;34m(\u001b[0m\u001b[0;34mf'X Value Should not exceed 5 The Provided Value of X is {x}'\u001b[0m\u001b[0;34m)\u001b[0m\u001b[0;34m\u001b[0m\u001b[0;34m\u001b[0m\u001b[0m\n\u001b[0m",
            "\u001b[0;31mException\u001b[0m: X Value Should not exceed 5 The Provided Value of X is 11"
          ]
        }
      ]
    },
    {
      "cell_type": "code",
      "source": [
        "assert(5==3), \"5 is not equal to 3\""
      ],
      "metadata": {
        "colab": {
          "base_uri": "https://localhost:8080/",
          "height": 165
        },
        "id": "9e1Pkkx7uhrI",
        "outputId": "067431b0-caeb-40fb-f1c5-9392cfbe1822"
      },
      "execution_count": 5,
      "outputs": [
        {
          "output_type": "error",
          "ename": "AssertionError",
          "evalue": "ignored",
          "traceback": [
            "\u001b[0;31m---------------------------------------------------------------------------\u001b[0m",
            "\u001b[0;31mAssertionError\u001b[0m                            Traceback (most recent call last)",
            "\u001b[0;32m<ipython-input-5-b7e20cbddd6b>\u001b[0m in \u001b[0;36m<module>\u001b[0;34m\u001b[0m\n\u001b[0;32m----> 1\u001b[0;31m \u001b[0;32massert\u001b[0m\u001b[0;34m(\u001b[0m\u001b[0;36m5\u001b[0m\u001b[0;34m==\u001b[0m\u001b[0;36m3\u001b[0m\u001b[0;34m)\u001b[0m\u001b[0;34m,\u001b[0m \u001b[0;34m\"5 is not equal to 3\"\u001b[0m\u001b[0;34m\u001b[0m\u001b[0;34m\u001b[0m\u001b[0m\n\u001b[0m",
            "\u001b[0;31mAssertionError\u001b[0m: 5 is not equal to 3"
          ]
        }
      ]
    },
    {
      "cell_type": "markdown",
      "source": [
        "Q5. Identify two methods for specifying actions to be executed at termination time, regardless of\n",
        "whether or not an exception exists."
      ],
      "metadata": {
        "id": "W1Bid_QkpyHx"
      }
    },
    {
      "cell_type": "markdown",
      "source": [
        " Python provides else and finally blocks for specifying actions to be executed at termination time, regardless of whether an exceptions exists or not."
      ],
      "metadata": {
        "id": "bDNFzWCjtcpW"
      }
    },
    {
      "cell_type": "code",
      "source": [],
      "metadata": {
        "id": "SYm_9LXWm3xh"
      },
      "execution_count": null,
      "outputs": []
    },
    {
      "cell_type": "code",
      "source": [],
      "metadata": {
        "id": "7P_YeSFKm30j"
      },
      "execution_count": null,
      "outputs": []
    },
    {
      "cell_type": "code",
      "source": [],
      "metadata": {
        "id": "I2ZhoSkom33Y"
      },
      "execution_count": null,
      "outputs": []
    },
    {
      "cell_type": "code",
      "source": [],
      "metadata": {
        "id": "PDvs73vWm36k"
      },
      "execution_count": null,
      "outputs": []
    },
    {
      "cell_type": "code",
      "source": [],
      "metadata": {
        "id": "PflK78lwm3-G"
      },
      "execution_count": null,
      "outputs": []
    },
    {
      "cell_type": "code",
      "source": [],
      "metadata": {
        "id": "_xUYEeXrm4X-"
      },
      "execution_count": null,
      "outputs": []
    },
    {
      "cell_type": "code",
      "source": [],
      "metadata": {
        "id": "hE19iZtrm4bj"
      },
      "execution_count": null,
      "outputs": []
    }
  ]
}