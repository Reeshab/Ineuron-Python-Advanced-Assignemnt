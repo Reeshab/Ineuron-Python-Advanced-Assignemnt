{
  "nbformat": 4,
  "nbformat_minor": 0,
  "metadata": {
    "colab": {
      "provenance": [],
      "authorship_tag": "ABX9TyPfZF+oj7uioGjm/2k2iyfu",
      "include_colab_link": true
    },
    "kernelspec": {
      "name": "python3",
      "display_name": "Python 3"
    },
    "language_info": {
      "name": "python"
    }
  },
  "cells": [
    {
      "cell_type": "markdown",
      "metadata": {
        "id": "view-in-github",
        "colab_type": "text"
      },
      "source": [
        "<a href=\"https://colab.research.google.com/github/Reeshab/Ineuron-Python-Advanced-Assignemnt/blob/main/Python_Advanced_Assignment_9.ipynb\" target=\"_parent\"><img src=\"https://colab.research.google.com/assets/colab-badge.svg\" alt=\"Open In Colab\"/></a>"
      ]
    },
    {
      "cell_type": "markdown",
      "source": [
        "Q1. In Python 3.X, what are the names and functions of string object types?"
      ],
      "metadata": {
        "id": "1BtEfP8PxzB7"
      }
    },
    {
      "cell_type": "markdown",
      "source": [
        "Ans: The following are the names and functions of string object types in Python 3.X\n",
        "\n",
        ".isdecimal() -> Returns True if all characters in a string are decimal.\n",
        "\n",
        ".isalnum() -> Returns True if all characters in the string are AlphaNumeric.\n",
        "\n",
        ".istitle() -> Returns True if first character in a string is in Uppercase.\n",
        "\n",
        ".partition() -> Splits string at first occurance of sub string and returns a tuple of 3 elements.\n",
        "\n",
        ".rpartition() -> Splits string at last occurance of sub string and returns a tuple of 3 elements.\n",
        "\n",
        ".isidentifier() -> Returns True if give string is a valid identifier name.\n",
        "\n",
        "len() -> Returns the length of the given string.\n",
        "\n",
        ".index() -> Returns the lowest index of substring if substring is found in the string.\n",
        "\n",
        ".rindex() -> Returns the highest index of substring if substring is found in the string.\n",
        "\n",
        "max() -> Returns the highest Alphabetical Character in the string as per ASCII.\n",
        "\n",
        "min() -> Returns the lowest Alphabetical Character in the string as per ASCII.\n",
        "\n",
        ".splitlines() -> Returns a list of lines in the string.\n",
        "\n",
        ".capitalize() -> Returns the string with first character capitalized.\n",
        "\n",
        ".upper() -> Returns the string with all characters in uppercase.\n",
        "\n",
        ".lower() -> Returns the string with all characters in lowercase\n",
        "\n",
        ".casefold() -> Returns the string in lowercase which can be used for caseless comparisions.\n",
        "\n",
        ".expandtabs(no_of_spaces) -> Replaces tabs in a string with specified no of spaces default is 8\n",
        "\n",
        ".find() -> Returns lowest index of substring if substring is found in the string else returns -1.\n",
        "\n",
        ".rfind() -> Returns highest index of substring if substring is found in the string else returns -1.\n",
        "\n",
        ".count() -> Returns the no of occurances of the char in the given string.\n",
        "\n",
        ".split() -> Returns list of words seperated by given sep else seperated by whitespace.\n",
        "\n",
        ".rsplit() -> Returns list of words seperated by given sep else seperated by whitespace scanning from end.\n",
        "\n",
        ".lstrip() -> Returns a copy of where leading whitespaces are removed.\n",
        "\n",
        ".rstrip() -> Returns a copy of where trailed whitespaces are removed.\n",
        "\n",
        ".strip() -> Returns a copy of where both leading and trailing whitespaces are removed.\n",
        "\n",
        ".swapcase() -> Swaps lowercase characters with uppercase and vice versa.\n",
        "\n",
        ".join() -> Concatenates a list or tuple of words with intervening occuernces of sep.\n",
        "\n",
        ".translate() -> translates the characters using table.\n",
        "\n",
        ".maketrans() -> Creating a mapping translation tbale usable for .translate()\n",
        "\n",
        ".replace(,) -> Replace all occurances of char_1 with char_2 in string.\n",
        "\n",
        ".encode() -> Encodes string into any encoding supported by python. Default encoding is UTF-8.\n",
        "\n",
        ".ljust() -> Left-justify in a field of given width.\n",
        "\n",
        ".rjust() -> Right-justify in a field of given width.\n",
        "\n",
        ".center() -> Center-justify in a field of given width.\n",
        "\n",
        ".zfill() -> Zfill adds zeros to the begining of string until the specified length is reached."
      ],
      "metadata": {
        "id": "X3cUfAlcx-lL"
      }
    },
    {
      "cell_type": "code",
      "execution_count": 1,
      "metadata": {
        "colab": {
          "base_uri": "https://localhost:8080/"
        },
        "id": "MWOQuTJWxhCP",
        "outputId": "6abb7182-38ba-48e0-a886-546290e64e4f"
      },
      "outputs": [
        {
          "output_type": "stream",
          "name": "stdout",
          "text": [
            "True\n",
            "True\n",
            "False\n",
            "('\"I could eat ', 'bananas', ' all day, bananas are my favorite fruit\"')\n",
            "('\"I could eat bananas all day, ', 'bananas', ' are my favorite fruit\"')\n",
            "True\n",
            "17\n",
            "1\n",
            "6\n",
            "t\n",
            "A\n",
            "['Ineuron ', ' Full Stack ', ' Data Science ', ' Course ']\n",
            "Finding nemo\n",
            "DATAPIPELINES\n",
            "mlops\n",
            "doloris jane umbridge\n",
            "Data science    Data Analyst\n",
            "1\n",
            "6\n",
            "2\n",
            "['i', 'euro', '']\n",
            "['i', 'euro', '']\n",
            "EDA \n",
            " EDA\n",
            "EDA\n",
            "eXPLORATORY dATA aNALYSIS\n",
            "Iris_flower_Dataset\n",
            "Hello Pam!\n",
            "Hello Pam!\n",
            "I2euro2\n",
            "b'Natural Language Processing'\n",
            "Nemo      \n",
            "      Nemo\n",
            "   Nemo   \n",
            "00000Hello\n"
          ]
        }
      ],
      "source": [
        "print('1234567890'.isdecimal())\n",
        "print('IneuronFullStackDS'.isalnum())\n",
        "print('Ineuron Full Stack Data science'.istitle())\n",
        "print('\"I could eat bananas all day, bananas are my favorite fruit\"'.partition('bananas'))\n",
        "print('\"I could eat bananas all day, bananas are my favorite fruit\"'.rpartition('bananas'))\n",
        "print('GeeksForFreaks'.isidentifier())\n",
        "print(len('Linear Regression'))\n",
        "print('Ineuron'.index('n'))\n",
        "print('Ineuron'.rindex('n'))\n",
        "print(max('Data_Scientist'))\n",
        "print(min('Data_Analyst'))\n",
        "print('Ineuron \\n Full Stack \\n Data Science \\n Course '.splitlines())\n",
        "print('finding nemo'.capitalize())\n",
        "print('datapipelines'.upper())\n",
        "print('MLOPS'.lower())\n",
        "print('Doloris Jane Umbridge'.casefold())\n",
        "print('Data science\\tData Analyst'.expandtabs(8))\n",
        "print('Ineuron'.find('n'))\n",
        "print('Ineuron'.rfind('n'))\n",
        "print('Transformers'.count('s'))\n",
        "print('ineuron'.split('n'))\n",
        "print('ineuron'.rsplit('n'))\n",
        "print(' EDA '.lstrip())\n",
        "print(' EDA '.rstrip())\n",
        "print(' EDA '.strip())\n",
        "print('Exploratory Data Analysis'.swapcase())\n",
        "print('_'.join(['Iris','flower','Dataset']))\n",
        "\n",
        "mydict = {83:  80}\n",
        "print(\"Hello Sam!\".translate(mydict))\n",
        "\n",
        "txt = \"Hello Sam!\"\n",
        "mytable = txt.maketrans(\"S\", \"P\")\n",
        "print(txt.translate(mytable))\n",
        "\n",
        "print('Ineuron'.replace('n','2'))\n",
        "print('Natural Language Processing'.encode())\n",
        "print('Nemo'.ljust(10))\n",
        "print('Nemo'.rjust(10))\n",
        "print('Nemo'.center(10))\n",
        "print('Hello'.zfill(10))"
      ]
    },
    {
      "cell_type": "markdown",
      "source": [
        "Q2. How do the string forms in Python 3.X vary in terms of operations?"
      ],
      "metadata": {
        "id": "kACeuaGnzAf-"
      }
    },
    {
      "cell_type": "markdown",
      "source": [
        "Ans: In Python3 default format of strings is Unicode Whereas in Pyton2 we need to explicitly mention Unicode value using u."
      ],
      "metadata": {
        "id": "xBn-anLvzHMB"
      }
    },
    {
      "cell_type": "markdown",
      "source": [
        "Q3. In 3.X, how do you put non-ASCII Unicode characters in a string?"
      ],
      "metadata": {
        "id": "f1mEO9Q5zXW3"
      }
    },
    {
      "cell_type": "markdown",
      "source": [
        "Ans: In Python 3.x unidecode() method from unidecode library can be used to put non-ASCII Unicode Characters in a string."
      ],
      "metadata": {
        "id": "Q1cuZ4YQzlHO"
      }
    },
    {
      "cell_type": "code",
      "source": [
        "from unidecode import unidecode\n",
        "print(unidecode(u'ko\\u017eu\\u0161\\u010dek'))\n",
        "print(unidecode(\"आप नीचे अपनी भाषा और इनपुट उपकरण चुनें और लिखना आरंभ करें\"))\n",
        "print(unidecode(\"谢谢你\"))\n",
        "print(unidecode(\"ありがとう。\"))\n",
        "print(unidecode(\"улыбаться Владимир Путин\"))"
      ],
      "metadata": {
        "colab": {
          "base_uri": "https://localhost:8080/",
          "height": 373
        },
        "id": "OahZyKbGxhqM",
        "outputId": "ac12d80e-61b5-49b7-bebd-f69c8a84085f"
      },
      "execution_count": 2,
      "outputs": [
        {
          "output_type": "error",
          "ename": "ModuleNotFoundError",
          "evalue": "ignored",
          "traceback": [
            "\u001b[0;31m---------------------------------------------------------------------------\u001b[0m",
            "\u001b[0;31mModuleNotFoundError\u001b[0m                       Traceback (most recent call last)",
            "\u001b[0;32m<ipython-input-2-f767477ae683>\u001b[0m in \u001b[0;36m<module>\u001b[0;34m\u001b[0m\n\u001b[0;32m----> 1\u001b[0;31m \u001b[0;32mfrom\u001b[0m \u001b[0munidecode\u001b[0m \u001b[0;32mimport\u001b[0m \u001b[0munidecode\u001b[0m\u001b[0;34m\u001b[0m\u001b[0;34m\u001b[0m\u001b[0m\n\u001b[0m\u001b[1;32m      2\u001b[0m \u001b[0mprint\u001b[0m\u001b[0;34m(\u001b[0m\u001b[0munidecode\u001b[0m\u001b[0;34m(\u001b[0m\u001b[0;34mu'ko\\u017eu\\u0161\\u010dek'\u001b[0m\u001b[0;34m)\u001b[0m\u001b[0;34m)\u001b[0m\u001b[0;34m\u001b[0m\u001b[0;34m\u001b[0m\u001b[0m\n\u001b[1;32m      3\u001b[0m \u001b[0mprint\u001b[0m\u001b[0;34m(\u001b[0m\u001b[0munidecode\u001b[0m\u001b[0;34m(\u001b[0m\u001b[0;34m\"आप नीचे अपनी भाषा और इनपुट उपकरण चुनें और लिखना आरंभ करें\"\u001b[0m\u001b[0;34m)\u001b[0m\u001b[0;34m)\u001b[0m\u001b[0;34m\u001b[0m\u001b[0;34m\u001b[0m\u001b[0m\n\u001b[1;32m      4\u001b[0m \u001b[0mprint\u001b[0m\u001b[0;34m(\u001b[0m\u001b[0munidecode\u001b[0m\u001b[0;34m(\u001b[0m\u001b[0;34m\"谢谢你\"\u001b[0m\u001b[0;34m)\u001b[0m\u001b[0;34m)\u001b[0m\u001b[0;34m\u001b[0m\u001b[0;34m\u001b[0m\u001b[0m\n\u001b[1;32m      5\u001b[0m \u001b[0mprint\u001b[0m\u001b[0;34m(\u001b[0m\u001b[0munidecode\u001b[0m\u001b[0;34m(\u001b[0m\u001b[0;34m\"ありがとう。\"\u001b[0m\u001b[0;34m)\u001b[0m\u001b[0;34m)\u001b[0m\u001b[0;34m\u001b[0m\u001b[0;34m\u001b[0m\u001b[0m\n",
            "\u001b[0;31mModuleNotFoundError\u001b[0m: No module named 'unidecode'",
            "",
            "\u001b[0;31m---------------------------------------------------------------------------\u001b[0;32m\nNOTE: If your import is failing due to a missing package, you can\nmanually install dependencies using either !pip or !apt.\n\nTo view examples of installing some common dependencies, click the\n\"Open Examples\" button below.\n\u001b[0;31m---------------------------------------------------------------------------\u001b[0m\n"
          ],
          "errorDetails": {
            "actions": [
              {
                "action": "open_url",
                "actionText": "Open Examples",
                "url": "/notebooks/snippets/importing_libraries.ipynb"
              }
            ]
          }
        }
      ]
    },
    {
      "cell_type": "markdown",
      "source": [
        "Q4. In Python 3.X, what are the key differences between text-mode and binary-mode files?"
      ],
      "metadata": {
        "id": "8oadk0n_0UpR"
      }
    },
    {
      "cell_type": "markdown",
      "source": [
        "Ans: The major difference between these two is that a text file contains textual information in the form of alphabets, digits and special characters or symbols. On the other hand, a binary file contains bytes or a compiled version of a text file.\n",
        "\n",
        "When a file is opened in text mode, reading its data automatically decodes its content (as per the platform default or as per provided encoding), and returns it as a str; writing operation takes a str, and automatically encodes it before transferring to the file. Text mode files also support universal end-of-line translation, and encoding specification arguments.\n",
        "\n",
        "When a file is opened in binary mode by adding a b to the mode string argument in the open() call, reading its data does not decode it in any way, and simply returns its content raw and unchanged, as a bytes object; writing takes a bytes object and transfers it to the file unchanged. Binary-mode files also accept a bytearray object for the content to be written to the file."
      ],
      "metadata": {
        "id": "9oIJkCbR0fmq"
      }
    },
    {
      "cell_type": "markdown",
      "source": [
        "Q5. How can you interpret a Unicode text file containing text encoded in a different encoding than\n",
        "your platform&#39;s default?"
      ],
      "metadata": {
        "id": "3meuQsx00ouI"
      }
    },
    {
      "cell_type": "markdown",
      "source": [
        "Ans: Use of encode() and decode() method can be used to you interpret a Unicode text file containing text encoded in a different encoding than your platform's default, by default encoding parameter is UTF-8"
      ],
      "metadata": {
        "id": "T_Iu0z1X2N4I"
      }
    },
    {
      "cell_type": "markdown",
      "source": [
        "Q6. What is the best way to make a Unicode text file in a particular encoding format?"
      ],
      "metadata": {
        "id": "QBCXCjzy2aFe"
      }
    },
    {
      "cell_type": "markdown",
      "source": [
        "Ans: Use str.encode() and file.write() to make a Unicode text file in a particular encoding format, default encoding format is UTF-18.\n",
        "\n",
        "\n",
        "Call str.encode(encoding) with encoding set to utf8 to encode str.\n",
        "Call open(file, mode) to open a file with mode set to wb . wb writes to files in binary mode & preserves UTF-8format.\n",
        "\n",
        "Call file.write(data) to write data to the file."
      ],
      "metadata": {
        "id": "d4U_Izfd2-zq"
      }
    },
    {
      "cell_type": "code",
      "source": [
        "unicode_text = u\"улыбаться Владимир Путин\"\n",
        "encoded_unicode_text = unicode_text.encode(\"utf-8\")\n",
        "print(encoded_unicode_text,end=\"\\n\\n\")\n",
        "\n",
        "w_file = open(\"w_file.txt\",\"wb\")\n",
        "w_file.write(encoded_unicode_text)\n",
        "w_file.close()\n",
        "\n",
        "r_file = open(\"w_file.txt\",\"rb\")\n",
        "data = r_file.read()\n",
        "print(data)"
      ],
      "metadata": {
        "colab": {
          "base_uri": "https://localhost:8080/"
        },
        "id": "bVvq0kj12dYj",
        "outputId": "67c5af55-fdaf-4ecb-a317-9e0b62589195"
      },
      "execution_count": 3,
      "outputs": [
        {
          "output_type": "stream",
          "name": "stdout",
          "text": [
            "b'\\xd1\\x83\\xd0\\xbb\\xd1\\x8b\\xd0\\xb1\\xd0\\xb0\\xd1\\x82\\xd1\\x8c\\xd1\\x81\\xd1\\x8f \\xd0\\x92\\xd0\\xbb\\xd0\\xb0\\xd0\\xb4\\xd0\\xb8\\xd0\\xbc\\xd0\\xb8\\xd1\\x80 \\xd0\\x9f\\xd1\\x83\\xd1\\x82\\xd0\\xb8\\xd0\\xbd'\n",
            "\n",
            "b'\\xd1\\x83\\xd0\\xbb\\xd1\\x8b\\xd0\\xb1\\xd0\\xb0\\xd1\\x82\\xd1\\x8c\\xd1\\x81\\xd1\\x8f \\xd0\\x92\\xd0\\xbb\\xd0\\xb0\\xd0\\xb4\\xd0\\xb8\\xd0\\xbc\\xd0\\xb8\\xd1\\x80 \\xd0\\x9f\\xd1\\x83\\xd1\\x82\\xd0\\xb8\\xd0\\xbd'\n"
          ]
        }
      ]
    },
    {
      "cell_type": "markdown",
      "source": [
        "Q7. What qualifies ASCII text as a form of Unicode text?"
      ],
      "metadata": {
        "id": "AH0PbuSH0zNp"
      }
    },
    {
      "cell_type": "markdown",
      "source": [
        "Ans: Unicode represents most written languages in the world. ASCII has its equivalent in Unicode. The difference between ASCII and Unicode is that ASCII represents lowercase letters (a-z), uppercase letters (A-Z), digits (0–9) and symbols such as punctuation marks while Unicode represents letters of English, Arabic, Greek etc. mathematical symbols, historical scripts, emoji covering a wide range of characters than ASCII."
      ],
      "metadata": {
        "id": "qEwF7RUo3giE"
      }
    },
    {
      "cell_type": "markdown",
      "source": [
        "Q8. How much of an effect does the change in string types in Python 3.X have on your code?"
      ],
      "metadata": {
        "id": "XnC-0JTP07b7"
      }
    },
    {
      "cell_type": "markdown",
      "source": [
        "Ans: Python 3 stores strings as Unicode by default whereas Python 2 requires you to mark a string with a u if you want to store it as Unicode. Unicode strings are more versatile than ASCII strings, which are the Python 3.X default, as they can store letters from foreign languages as well as emoji and the standard Roman letters and numerals."
      ],
      "metadata": {
        "id": "NIogKas73x8L"
      }
    },
    {
      "cell_type": "code",
      "source": [],
      "metadata": {
        "id": "EKua-O6Hxh4S"
      },
      "execution_count": null,
      "outputs": []
    },
    {
      "cell_type": "code",
      "source": [],
      "metadata": {
        "id": "rGov7djTxh7E"
      },
      "execution_count": null,
      "outputs": []
    },
    {
      "cell_type": "code",
      "source": [],
      "metadata": {
        "id": "L_dy3fluxh9v"
      },
      "execution_count": null,
      "outputs": []
    },
    {
      "cell_type": "code",
      "source": [],
      "metadata": {
        "id": "wOJlAlptxiAe"
      },
      "execution_count": null,
      "outputs": []
    },
    {
      "cell_type": "code",
      "source": [],
      "metadata": {
        "id": "_6fg4WRXxiC1"
      },
      "execution_count": null,
      "outputs": []
    },
    {
      "cell_type": "code",
      "source": [],
      "metadata": {
        "id": "EUh136cPxiFg"
      },
      "execution_count": null,
      "outputs": []
    },
    {
      "cell_type": "code",
      "source": [],
      "metadata": {
        "id": "TyoGykoHxiIM"
      },
      "execution_count": null,
      "outputs": []
    },
    {
      "cell_type": "code",
      "source": [],
      "metadata": {
        "id": "NVKc5rQuxiK0"
      },
      "execution_count": null,
      "outputs": []
    },
    {
      "cell_type": "code",
      "source": [],
      "metadata": {
        "id": "JAZrGHhhxiN2"
      },
      "execution_count": null,
      "outputs": []
    },
    {
      "cell_type": "code",
      "source": [],
      "metadata": {
        "id": "J8ZaBg89xiQC"
      },
      "execution_count": null,
      "outputs": []
    },
    {
      "cell_type": "code",
      "source": [],
      "metadata": {
        "id": "oZeQLh_uxiSo"
      },
      "execution_count": null,
      "outputs": []
    },
    {
      "cell_type": "code",
      "source": [],
      "metadata": {
        "id": "haYSyYwIxiVq"
      },
      "execution_count": null,
      "outputs": []
    },
    {
      "cell_type": "code",
      "source": [],
      "metadata": {
        "id": "lGiiEU84xiY5"
      },
      "execution_count": null,
      "outputs": []
    }
  ]
}